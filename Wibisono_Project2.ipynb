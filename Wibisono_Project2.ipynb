{
 "cells": [
  {
   "cell_type": "markdown",
   "id": "8abacdd9-2e92-490d-8b30-8abab9bcfe2a",
   "metadata": {},
   "source": [
    "## Python Project \n",
    "## Tiffany Wibisono\n",
    "## 03/06/2022"
   ]
  },
  {
   "cell_type": "code",
   "execution_count": 2,
   "id": "3c4a8575-392b-474e-a884-a125590e92a0",
   "metadata": {},
   "outputs": [],
   "source": [
    "import numpy as np\n",
    "import pandas as pd\n",
    "import seaborn as sns\n",
    "import matplotlib.pyplot as plt\n",
    "\n",
    "pd.set_option('display.float_format', lambda x: '%.2f' % x)\n",
    "\n",
    "import warnings\n",
    "warnings.filterwarnings('ignore')"
   ]
  },
  {
   "cell_type": "code",
   "execution_count": 3,
   "id": "2ab68ed3-4fc2-46c3-bfd3-ea3fca21b35e",
   "metadata": {},
   "outputs": [],
   "source": [
    "mmSales = pd.read_csv('DataProject/MM_Sales.csv')"
   ]
  },
  {
   "cell_type": "markdown",
   "id": "42fab375-d985-4784-83ad-ae7bc5149e31",
   "metadata": {
    "tags": []
   },
   "source": [
    "### Part 1: Cleaning the Data"
   ]
  },
  {
   "cell_type": "code",
   "execution_count": 5,
   "id": "c758a7fd-7c56-4e01-8b56-e545521be4d1",
   "metadata": {},
   "outputs": [
    {
     "name": "stdout",
     "output_type": "stream",
     "text": [
      "(50000, 14)\n",
      "\n",
      "\n",
      "Region             object\n",
      "Country            object\n",
      "Item Type          object\n",
      "Sales Channel      object\n",
      "Order Priority     object\n",
      "Order Date         object\n",
      "Order ID           object\n",
      "Ship Date          object\n",
      "Units Sold          int64\n",
      "Unit Price        float64\n",
      "Unit Cost         float64\n",
      "Total Revenue     float64\n",
      "Total Cost        float64\n",
      "Total Profit      float64\n",
      "dtype: object\n",
      "\n",
      "\n",
      "Region             0\n",
      "Country            0\n",
      "Item Type          6\n",
      "Sales Channel      0\n",
      "Order Priority    15\n",
      "Order Date         0\n",
      "Order ID           0\n",
      "Ship Date          0\n",
      "Units Sold         0\n",
      "Unit Price         0\n",
      "Unit Cost          0\n",
      "Total Revenue      0\n",
      "Total Cost         0\n",
      "Total Profit       0\n",
      "dtype: int64\n"
     ]
    }
   ],
   "source": [
    "# Number of rows and columns in the data\n",
    "print(mmSales.shape)\n",
    "\n",
    "print('\\n')\n",
    "\n",
    "# Determine what type of datas is in each column\n",
    "print(mmSales.dtypes)\n",
    "\n",
    "print('\\n')\n",
    "\n",
    "# Sum the number of missing datas\n",
    "print(mmSales.isna().sum())"
   ]
  },
  {
   "cell_type": "code",
   "execution_count": 29,
   "id": "306384dc-3736-4652-abd8-173965248f8c",
   "metadata": {},
   "outputs": [
    {
     "data": {
      "text/html": [
       "<div>\n",
       "<style scoped>\n",
       "    .dataframe tbody tr th:only-of-type {\n",
       "        vertical-align: middle;\n",
       "    }\n",
       "\n",
       "    .dataframe tbody tr th {\n",
       "        vertical-align: top;\n",
       "    }\n",
       "\n",
       "    .dataframe thead th {\n",
       "        text-align: right;\n",
       "    }\n",
       "</style>\n",
       "<table border=\"1\" class=\"dataframe\">\n",
       "  <thead>\n",
       "    <tr style=\"text-align: right;\">\n",
       "      <th></th>\n",
       "      <th>Region</th>\n",
       "      <th>Country</th>\n",
       "      <th>Item Type</th>\n",
       "      <th>Sales Channel</th>\n",
       "      <th>Order Priority</th>\n",
       "      <th>Order Date</th>\n",
       "      <th>Order ID</th>\n",
       "      <th>Ship Date</th>\n",
       "      <th>Units Sold</th>\n",
       "      <th>Unit Price</th>\n",
       "      <th>Unit Cost</th>\n",
       "      <th>Total Revenue</th>\n",
       "      <th>Total Cost</th>\n",
       "      <th>Total Profit</th>\n",
       "    </tr>\n",
       "  </thead>\n",
       "  <tbody>\n",
       "    <tr>\n",
       "      <th>11</th>\n",
       "      <td>Middle East and North Africa</td>\n",
       "      <td>Afghanistan</td>\n",
       "      <td>NaN</td>\n",
       "      <td>Online</td>\n",
       "      <td>C</td>\n",
       "      <td>10/21/16</td>\n",
       "      <td>620358741</td>\n",
       "      <td>12/1/16</td>\n",
       "      <td>6792</td>\n",
       "      <td>437.20</td>\n",
       "      <td>263.33</td>\n",
       "      <td>2969462.40</td>\n",
       "      <td>1788537.36</td>\n",
       "      <td>1180925.04</td>\n",
       "    </tr>\n",
       "    <tr>\n",
       "      <th>321</th>\n",
       "      <td>Europe</td>\n",
       "      <td>France</td>\n",
       "      <td>NaN</td>\n",
       "      <td>Online</td>\n",
       "      <td>M</td>\n",
       "      <td>1/23/15</td>\n",
       "      <td>714754474</td>\n",
       "      <td>2/5/15</td>\n",
       "      <td>587</td>\n",
       "      <td>668.27</td>\n",
       "      <td>502.54</td>\n",
       "      <td>392274.49</td>\n",
       "      <td>294990.98</td>\n",
       "      <td>97283.51</td>\n",
       "    </tr>\n",
       "    <tr>\n",
       "      <th>14519</th>\n",
       "      <td>Central America and the Caribbean</td>\n",
       "      <td>Nicaragua</td>\n",
       "      <td>NaN</td>\n",
       "      <td>Online</td>\n",
       "      <td>H</td>\n",
       "      <td>2/21/13</td>\n",
       "      <td>391752135</td>\n",
       "      <td>3/28/13</td>\n",
       "      <td>7017</td>\n",
       "      <td>651.21</td>\n",
       "      <td>524.96</td>\n",
       "      <td>4569540.57</td>\n",
       "      <td>3683644.32</td>\n",
       "      <td>885896.25</td>\n",
       "    </tr>\n",
       "    <tr>\n",
       "      <th>14520</th>\n",
       "      <td>Australia and Oceania</td>\n",
       "      <td>Vanuatu</td>\n",
       "      <td>NaN</td>\n",
       "      <td>Online</td>\n",
       "      <td>M</td>\n",
       "      <td>6/3/14</td>\n",
       "      <td>282816255</td>\n",
       "      <td>6/23/14</td>\n",
       "      <td>469</td>\n",
       "      <td>154.06</td>\n",
       "      <td>90.93</td>\n",
       "      <td>72254.14</td>\n",
       "      <td>42646.17</td>\n",
       "      <td>29607.97</td>\n",
       "    </tr>\n",
       "    <tr>\n",
       "      <th>47186</th>\n",
       "      <td>Europe</td>\n",
       "      <td>Austria</td>\n",
       "      <td>NaN</td>\n",
       "      <td>Offline</td>\n",
       "      <td>L</td>\n",
       "      <td>5/17/11</td>\n",
       "      <td>864141499</td>\n",
       "      <td>5/24/11</td>\n",
       "      <td>7528</td>\n",
       "      <td>81.73</td>\n",
       "      <td>56.67</td>\n",
       "      <td>615263.44</td>\n",
       "      <td>426611.76</td>\n",
       "      <td>188651.68</td>\n",
       "    </tr>\n",
       "    <tr>\n",
       "      <th>47188</th>\n",
       "      <td>Europe</td>\n",
       "      <td>Romania</td>\n",
       "      <td>NaN</td>\n",
       "      <td>Online</td>\n",
       "      <td>M</td>\n",
       "      <td>3/31/16</td>\n",
       "      <td>818466699</td>\n",
       "      <td>5/3/16</td>\n",
       "      <td>1339</td>\n",
       "      <td>154.06</td>\n",
       "      <td>90.93</td>\n",
       "      <td>206286.34</td>\n",
       "      <td>121755.27</td>\n",
       "      <td>84531.07</td>\n",
       "    </tr>\n",
       "  </tbody>\n",
       "</table>\n",
       "</div>"
      ],
      "text/plain": [
       "                                  Region      Country Item Type Sales Channel  \\\n",
       "11          Middle East and North Africa  Afghanistan       NaN        Online   \n",
       "321                               Europe       France       NaN        Online   \n",
       "14519  Central America and the Caribbean    Nicaragua       NaN        Online   \n",
       "14520              Australia and Oceania      Vanuatu       NaN        Online   \n",
       "47186                             Europe      Austria       NaN       Offline   \n",
       "47188                             Europe      Romania       NaN        Online   \n",
       "\n",
       "      Order Priority Order Date   Order ID Ship Date  Units Sold  Unit Price  \\\n",
       "11                 C   10/21/16  620358741   12/1/16        6792      437.20   \n",
       "321                M    1/23/15  714754474    2/5/15         587      668.27   \n",
       "14519              H    2/21/13  391752135   3/28/13        7017      651.21   \n",
       "14520              M     6/3/14  282816255   6/23/14         469      154.06   \n",
       "47186              L    5/17/11  864141499   5/24/11        7528       81.73   \n",
       "47188              M    3/31/16  818466699    5/3/16        1339      154.06   \n",
       "\n",
       "       Unit Cost  Total Revenue  Total Cost  Total Profit  \n",
       "11        263.33     2969462.40  1788537.36    1180925.04  \n",
       "321       502.54      392274.49   294990.98      97283.51  \n",
       "14519     524.96     4569540.57  3683644.32     885896.25  \n",
       "14520      90.93       72254.14    42646.17      29607.97  \n",
       "47186      56.67      615263.44   426611.76     188651.68  \n",
       "47188      90.93      206286.34   121755.27      84531.07  "
      ]
     },
     "execution_count": 29,
     "metadata": {},
     "output_type": "execute_result"
    }
   ],
   "source": [
    "# List missing or invalid items on Item Type column\n",
    "\n",
    "bool_series = pd.isnull(mmSales[\"Item Type\"])\n",
    "mmSales[bool_series]"
   ]
  },
  {
   "cell_type": "code",
   "execution_count": 30,
   "id": "bbd2d5fe-dbb1-4fea-94c8-d00a730bf24f",
   "metadata": {},
   "outputs": [
    {
     "data": {
      "text/html": [
       "<div>\n",
       "<style scoped>\n",
       "    .dataframe tbody tr th:only-of-type {\n",
       "        vertical-align: middle;\n",
       "    }\n",
       "\n",
       "    .dataframe tbody tr th {\n",
       "        vertical-align: top;\n",
       "    }\n",
       "\n",
       "    .dataframe thead th {\n",
       "        text-align: right;\n",
       "    }\n",
       "</style>\n",
       "<table border=\"1\" class=\"dataframe\">\n",
       "  <thead>\n",
       "    <tr style=\"text-align: right;\">\n",
       "      <th></th>\n",
       "      <th>Region</th>\n",
       "      <th>Country</th>\n",
       "      <th>Item Type</th>\n",
       "      <th>Sales Channel</th>\n",
       "      <th>Order Priority</th>\n",
       "      <th>Order Date</th>\n",
       "      <th>Order ID</th>\n",
       "      <th>Ship Date</th>\n",
       "      <th>Units Sold</th>\n",
       "      <th>Unit Price</th>\n",
       "      <th>Unit Cost</th>\n",
       "      <th>Total Revenue</th>\n",
       "      <th>Total Cost</th>\n",
       "      <th>Total Profit</th>\n",
       "    </tr>\n",
       "  </thead>\n",
       "  <tbody>\n",
       "    <tr>\n",
       "      <th>13</th>\n",
       "      <td>Middle East and North Africa</td>\n",
       "      <td>Lebanon</td>\n",
       "      <td>Vegetables</td>\n",
       "      <td>Offline</td>\n",
       "      <td>NaN</td>\n",
       "      <td>10/15/10</td>\n",
       "      <td>660954082</td>\n",
       "      <td>11/19/10</td>\n",
       "      <td>9855</td>\n",
       "      <td>154.06</td>\n",
       "      <td>90.93</td>\n",
       "      <td>1518261.30</td>\n",
       "      <td>896115.15</td>\n",
       "      <td>622146.15</td>\n",
       "    </tr>\n",
       "    <tr>\n",
       "      <th>189</th>\n",
       "      <td>Europe</td>\n",
       "      <td>France</td>\n",
       "      <td>Cosmetics</td>\n",
       "      <td>Online</td>\n",
       "      <td>NaN</td>\n",
       "      <td>8/2/10</td>\n",
       "      <td>670038402</td>\n",
       "      <td>9/16/10</td>\n",
       "      <td>8108</td>\n",
       "      <td>437.20</td>\n",
       "      <td>263.33</td>\n",
       "      <td>3544817.60</td>\n",
       "      <td>2135079.64</td>\n",
       "      <td>1409737.96</td>\n",
       "    </tr>\n",
       "    <tr>\n",
       "      <th>259</th>\n",
       "      <td>Central America and the Caribbean</td>\n",
       "      <td>Belize</td>\n",
       "      <td>Fruits</td>\n",
       "      <td>Offline</td>\n",
       "      <td>NaN</td>\n",
       "      <td>11/18/16</td>\n",
       "      <td>238470542</td>\n",
       "      <td>12/2/16</td>\n",
       "      <td>7588</td>\n",
       "      <td>9.33</td>\n",
       "      <td>6.92</td>\n",
       "      <td>70796.04</td>\n",
       "      <td>52508.96</td>\n",
       "      <td>18287.08</td>\n",
       "    </tr>\n",
       "    <tr>\n",
       "      <th>364</th>\n",
       "      <td>Sub-Saharan Africa</td>\n",
       "      <td>Angola</td>\n",
       "      <td>Personal Care</td>\n",
       "      <td>Online</td>\n",
       "      <td>NaN</td>\n",
       "      <td>4/21/15</td>\n",
       "      <td>307722604</td>\n",
       "      <td>4/30/15</td>\n",
       "      <td>812</td>\n",
       "      <td>81.73</td>\n",
       "      <td>56.67</td>\n",
       "      <td>66364.76</td>\n",
       "      <td>46016.04</td>\n",
       "      <td>20348.72</td>\n",
       "    </tr>\n",
       "    <tr>\n",
       "      <th>469</th>\n",
       "      <td>Asia</td>\n",
       "      <td>Tajikistan</td>\n",
       "      <td>Clothes</td>\n",
       "      <td>Online</td>\n",
       "      <td>NaN</td>\n",
       "      <td>2/26/11</td>\n",
       "      <td>857914912</td>\n",
       "      <td>4/15/11</td>\n",
       "      <td>4942</td>\n",
       "      <td>109.28</td>\n",
       "      <td>35.84</td>\n",
       "      <td>540061.76</td>\n",
       "      <td>177121.28</td>\n",
       "      <td>362940.48</td>\n",
       "    </tr>\n",
       "    <tr>\n",
       "      <th>644</th>\n",
       "      <td>Sub-Saharan Africa</td>\n",
       "      <td>Nigeria</td>\n",
       "      <td>Clothes</td>\n",
       "      <td>Online</td>\n",
       "      <td>NaN</td>\n",
       "      <td>7/11/17</td>\n",
       "      <td>468462884</td>\n",
       "      <td>8/4/17</td>\n",
       "      <td>7432</td>\n",
       "      <td>109.28</td>\n",
       "      <td>35.84</td>\n",
       "      <td>812168.96</td>\n",
       "      <td>266362.88</td>\n",
       "      <td>545806.08</td>\n",
       "    </tr>\n",
       "    <tr>\n",
       "      <th>784</th>\n",
       "      <td>Sub-Saharan Africa</td>\n",
       "      <td>Lesotho</td>\n",
       "      <td>Meat</td>\n",
       "      <td>Online</td>\n",
       "      <td>NaN</td>\n",
       "      <td>4/27/10</td>\n",
       "      <td>251652848</td>\n",
       "      <td>5/22/10</td>\n",
       "      <td>8525</td>\n",
       "      <td>421.89</td>\n",
       "      <td>364.69</td>\n",
       "      <td>3596612.25</td>\n",
       "      <td>3108982.25</td>\n",
       "      <td>487630.00</td>\n",
       "    </tr>\n",
       "    <tr>\n",
       "      <th>924</th>\n",
       "      <td>Middle East and North Africa</td>\n",
       "      <td>United Arab Emirates</td>\n",
       "      <td>Household</td>\n",
       "      <td>Offline</td>\n",
       "      <td>NaN</td>\n",
       "      <td>6/12/17</td>\n",
       "      <td>549222695</td>\n",
       "      <td>6/13/17</td>\n",
       "      <td>6055</td>\n",
       "      <td>668.27</td>\n",
       "      <td>502.54</td>\n",
       "      <td>4046374.85</td>\n",
       "      <td>3042879.70</td>\n",
       "      <td>1003495.15</td>\n",
       "    </tr>\n",
       "    <tr>\n",
       "      <th>1064</th>\n",
       "      <td>Middle East and North Africa</td>\n",
       "      <td>Saudi Arabia</td>\n",
       "      <td>Baby Food</td>\n",
       "      <td>Online</td>\n",
       "      <td>NaN</td>\n",
       "      <td>3/1/12</td>\n",
       "      <td>995547425</td>\n",
       "      <td>3/18/12</td>\n",
       "      <td>3461</td>\n",
       "      <td>255.28</td>\n",
       "      <td>159.42</td>\n",
       "      <td>883524.08</td>\n",
       "      <td>551752.62</td>\n",
       "      <td>331771.46</td>\n",
       "    </tr>\n",
       "    <tr>\n",
       "      <th>3969</th>\n",
       "      <td>Sub-Saharan Africa</td>\n",
       "      <td>Cape Verde</td>\n",
       "      <td>Fruits</td>\n",
       "      <td>Online</td>\n",
       "      <td>NaN</td>\n",
       "      <td>12/19/15</td>\n",
       "      <td>307628619</td>\n",
       "      <td>2/3/16</td>\n",
       "      <td>2999</td>\n",
       "      <td>9.33</td>\n",
       "      <td>6.92</td>\n",
       "      <td>27980.67</td>\n",
       "      <td>20753.08</td>\n",
       "      <td>7227.59</td>\n",
       "    </tr>\n",
       "    <tr>\n",
       "      <th>5054</th>\n",
       "      <td>Middle East and North Africa</td>\n",
       "      <td>Egypt</td>\n",
       "      <td>Baby Food</td>\n",
       "      <td>Online</td>\n",
       "      <td>NaN</td>\n",
       "      <td>8/20/13</td>\n",
       "      <td>801565778</td>\n",
       "      <td>10/4/13</td>\n",
       "      <td>9981</td>\n",
       "      <td>255.28</td>\n",
       "      <td>159.42</td>\n",
       "      <td>2547949.68</td>\n",
       "      <td>1591171.02</td>\n",
       "      <td>956778.66</td>\n",
       "    </tr>\n",
       "    <tr>\n",
       "      <th>5824</th>\n",
       "      <td>Sub-Saharan Africa</td>\n",
       "      <td>Cameroon</td>\n",
       "      <td>Personal Care</td>\n",
       "      <td>Online</td>\n",
       "      <td>NaN</td>\n",
       "      <td>6/24/14</td>\n",
       "      <td>617243516</td>\n",
       "      <td>6/29/14</td>\n",
       "      <td>4928</td>\n",
       "      <td>81.73</td>\n",
       "      <td>56.67</td>\n",
       "      <td>402765.44</td>\n",
       "      <td>279269.76</td>\n",
       "      <td>123495.68</td>\n",
       "    </tr>\n",
       "    <tr>\n",
       "      <th>18010</th>\n",
       "      <td>Sub-Saharan Africa</td>\n",
       "      <td>South Africa</td>\n",
       "      <td>Fruits</td>\n",
       "      <td>Online</td>\n",
       "      <td>NaN</td>\n",
       "      <td>8/23/15</td>\n",
       "      <td>822616612</td>\n",
       "      <td>9/10/15</td>\n",
       "      <td>9391</td>\n",
       "      <td>9.33</td>\n",
       "      <td>6.92</td>\n",
       "      <td>87618.03</td>\n",
       "      <td>64985.72</td>\n",
       "      <td>22632.31</td>\n",
       "    </tr>\n",
       "    <tr>\n",
       "      <th>18025</th>\n",
       "      <td>Middle East and North Africa</td>\n",
       "      <td>Afghanistan</td>\n",
       "      <td>Beverages</td>\n",
       "      <td>Offline</td>\n",
       "      <td>NaN</td>\n",
       "      <td>12/26/11</td>\n",
       "      <td>886597812</td>\n",
       "      <td>2/3/12</td>\n",
       "      <td>2850</td>\n",
       "      <td>47.45</td>\n",
       "      <td>31.79</td>\n",
       "      <td>135232.50</td>\n",
       "      <td>90601.50</td>\n",
       "      <td>44631.00</td>\n",
       "    </tr>\n",
       "    <tr>\n",
       "      <th>45579</th>\n",
       "      <td>Middle East and North Africa</td>\n",
       "      <td>Algeria</td>\n",
       "      <td>Beverages</td>\n",
       "      <td>Online</td>\n",
       "      <td>NaN</td>\n",
       "      <td>7/30/13</td>\n",
       "      <td>196945655</td>\n",
       "      <td>8/23/13</td>\n",
       "      <td>9451</td>\n",
       "      <td>47.45</td>\n",
       "      <td>31.79</td>\n",
       "      <td>448449.95</td>\n",
       "      <td>300447.29</td>\n",
       "      <td>148002.66</td>\n",
       "    </tr>\n",
       "  </tbody>\n",
       "</table>\n",
       "</div>"
      ],
      "text/plain": [
       "                                  Region               Country      Item Type  \\\n",
       "13          Middle East and North Africa               Lebanon     Vegetables   \n",
       "189                               Europe                France      Cosmetics   \n",
       "259    Central America and the Caribbean                Belize         Fruits   \n",
       "364                   Sub-Saharan Africa                Angola  Personal Care   \n",
       "469                                 Asia            Tajikistan        Clothes   \n",
       "644                   Sub-Saharan Africa               Nigeria        Clothes   \n",
       "784                   Sub-Saharan Africa               Lesotho           Meat   \n",
       "924         Middle East and North Africa  United Arab Emirates      Household   \n",
       "1064        Middle East and North Africa          Saudi Arabia      Baby Food   \n",
       "3969                  Sub-Saharan Africa            Cape Verde         Fruits   \n",
       "5054        Middle East and North Africa                 Egypt      Baby Food   \n",
       "5824                  Sub-Saharan Africa              Cameroon  Personal Care   \n",
       "18010                 Sub-Saharan Africa          South Africa         Fruits   \n",
       "18025       Middle East and North Africa           Afghanistan      Beverages   \n",
       "45579       Middle East and North Africa               Algeria      Beverages   \n",
       "\n",
       "      Sales Channel Order Priority Order Date   Order ID Ship Date  \\\n",
       "13          Offline            NaN   10/15/10  660954082  11/19/10   \n",
       "189          Online            NaN     8/2/10  670038402   9/16/10   \n",
       "259         Offline            NaN   11/18/16  238470542   12/2/16   \n",
       "364          Online            NaN    4/21/15  307722604   4/30/15   \n",
       "469          Online            NaN    2/26/11  857914912   4/15/11   \n",
       "644          Online            NaN    7/11/17  468462884    8/4/17   \n",
       "784          Online            NaN    4/27/10  251652848   5/22/10   \n",
       "924         Offline            NaN    6/12/17  549222695   6/13/17   \n",
       "1064         Online            NaN     3/1/12  995547425   3/18/12   \n",
       "3969         Online            NaN   12/19/15  307628619    2/3/16   \n",
       "5054         Online            NaN    8/20/13  801565778   10/4/13   \n",
       "5824         Online            NaN    6/24/14  617243516   6/29/14   \n",
       "18010        Online            NaN    8/23/15  822616612   9/10/15   \n",
       "18025       Offline            NaN   12/26/11  886597812    2/3/12   \n",
       "45579        Online            NaN    7/30/13  196945655   8/23/13   \n",
       "\n",
       "       Units Sold  Unit Price  Unit Cost  Total Revenue  Total Cost  \\\n",
       "13           9855      154.06      90.93     1518261.30   896115.15   \n",
       "189          8108      437.20     263.33     3544817.60  2135079.64   \n",
       "259          7588        9.33       6.92       70796.04    52508.96   \n",
       "364           812       81.73      56.67       66364.76    46016.04   \n",
       "469          4942      109.28      35.84      540061.76   177121.28   \n",
       "644          7432      109.28      35.84      812168.96   266362.88   \n",
       "784          8525      421.89     364.69     3596612.25  3108982.25   \n",
       "924          6055      668.27     502.54     4046374.85  3042879.70   \n",
       "1064         3461      255.28     159.42      883524.08   551752.62   \n",
       "3969         2999        9.33       6.92       27980.67    20753.08   \n",
       "5054         9981      255.28     159.42     2547949.68  1591171.02   \n",
       "5824         4928       81.73      56.67      402765.44   279269.76   \n",
       "18010        9391        9.33       6.92       87618.03    64985.72   \n",
       "18025        2850       47.45      31.79      135232.50    90601.50   \n",
       "45579        9451       47.45      31.79      448449.95   300447.29   \n",
       "\n",
       "       Total Profit  \n",
       "13        622146.15  \n",
       "189      1409737.96  \n",
       "259        18287.08  \n",
       "364        20348.72  \n",
       "469       362940.48  \n",
       "644       545806.08  \n",
       "784       487630.00  \n",
       "924      1003495.15  \n",
       "1064      331771.46  \n",
       "3969        7227.59  \n",
       "5054      956778.66  \n",
       "5824      123495.68  \n",
       "18010      22632.31  \n",
       "18025      44631.00  \n",
       "45579     148002.66  "
      ]
     },
     "execution_count": 30,
     "metadata": {},
     "output_type": "execute_result"
    }
   ],
   "source": [
    "# List missing or inalid items on Order Priority Column\n",
    "\n",
    "bool_series = pd.isnull(mmSales[\"Order Priority\"])\n",
    "\n",
    "mmSales[bool_series]"
   ]
  },
  {
   "cell_type": "code",
   "execution_count": 50,
   "id": "00bd7baf-0e01-4a4c-9240-721c2ec16d47",
   "metadata": {},
   "outputs": [
    {
     "ename": "ValueError",
     "evalue": "invalid literal for int() with base 10: 'Cosmetics'",
     "output_type": "error",
     "traceback": [
      "\u001b[1;31m---------------------------------------------------------------------------\u001b[0m",
      "\u001b[1;31mValueError\u001b[0m                                Traceback (most recent call last)",
      "\u001b[1;32mC:\\Users\\TIFFAN~1\\AppData\\Local\\Temp/ipykernel_8004/2266174144.py\u001b[0m in \u001b[0;36m<module>\u001b[1;34m\u001b[0m\n\u001b[0;32m      2\u001b[0m \u001b[1;33m\u001b[0m\u001b[0m\n\u001b[0;32m      3\u001b[0m \u001b[0mcount\u001b[0m \u001b[1;33m=\u001b[0m \u001b[1;36m0\u001b[0m\u001b[1;33m\u001b[0m\u001b[1;33m\u001b[0m\u001b[0m\n\u001b[1;32m----> 4\u001b[1;33m \u001b[0mmmSales\u001b[0m \u001b[1;33m=\u001b[0m \u001b[0mmmSales\u001b[0m\u001b[1;33m[\u001b[0m\u001b[1;34m'Order ID'\u001b[0m\u001b[1;33m]\u001b[0m\u001b[1;33m.\u001b[0m\u001b[0mastype\u001b[0m\u001b[1;33m(\u001b[0m\u001b[1;34m'int'\u001b[0m\u001b[1;33m)\u001b[0m\u001b[1;33m\u001b[0m\u001b[1;33m\u001b[0m\u001b[0m\n\u001b[0m",
      "\u001b[1;32m~\\anaconda3\\lib\\site-packages\\pandas\\core\\generic.py\u001b[0m in \u001b[0;36mastype\u001b[1;34m(self, dtype, copy, errors)\u001b[0m\n\u001b[0;32m   5813\u001b[0m         \u001b[1;32melse\u001b[0m\u001b[1;33m:\u001b[0m\u001b[1;33m\u001b[0m\u001b[1;33m\u001b[0m\u001b[0m\n\u001b[0;32m   5814\u001b[0m             \u001b[1;31m# else, only a single dtype is given\u001b[0m\u001b[1;33m\u001b[0m\u001b[1;33m\u001b[0m\u001b[0m\n\u001b[1;32m-> 5815\u001b[1;33m             \u001b[0mnew_data\u001b[0m \u001b[1;33m=\u001b[0m \u001b[0mself\u001b[0m\u001b[1;33m.\u001b[0m\u001b[0m_mgr\u001b[0m\u001b[1;33m.\u001b[0m\u001b[0mastype\u001b[0m\u001b[1;33m(\u001b[0m\u001b[0mdtype\u001b[0m\u001b[1;33m=\u001b[0m\u001b[0mdtype\u001b[0m\u001b[1;33m,\u001b[0m \u001b[0mcopy\u001b[0m\u001b[1;33m=\u001b[0m\u001b[0mcopy\u001b[0m\u001b[1;33m,\u001b[0m \u001b[0merrors\u001b[0m\u001b[1;33m=\u001b[0m\u001b[0merrors\u001b[0m\u001b[1;33m)\u001b[0m\u001b[1;33m\u001b[0m\u001b[1;33m\u001b[0m\u001b[0m\n\u001b[0m\u001b[0;32m   5816\u001b[0m             \u001b[1;32mreturn\u001b[0m \u001b[0mself\u001b[0m\u001b[1;33m.\u001b[0m\u001b[0m_constructor\u001b[0m\u001b[1;33m(\u001b[0m\u001b[0mnew_data\u001b[0m\u001b[1;33m)\u001b[0m\u001b[1;33m.\u001b[0m\u001b[0m__finalize__\u001b[0m\u001b[1;33m(\u001b[0m\u001b[0mself\u001b[0m\u001b[1;33m,\u001b[0m \u001b[0mmethod\u001b[0m\u001b[1;33m=\u001b[0m\u001b[1;34m\"astype\"\u001b[0m\u001b[1;33m)\u001b[0m\u001b[1;33m\u001b[0m\u001b[1;33m\u001b[0m\u001b[0m\n\u001b[0;32m   5817\u001b[0m \u001b[1;33m\u001b[0m\u001b[0m\n",
      "\u001b[1;32m~\\anaconda3\\lib\\site-packages\\pandas\\core\\internals\\managers.py\u001b[0m in \u001b[0;36mastype\u001b[1;34m(self, dtype, copy, errors)\u001b[0m\n\u001b[0;32m    416\u001b[0m \u001b[1;33m\u001b[0m\u001b[0m\n\u001b[0;32m    417\u001b[0m     \u001b[1;32mdef\u001b[0m \u001b[0mastype\u001b[0m\u001b[1;33m(\u001b[0m\u001b[0mself\u001b[0m\u001b[1;33m:\u001b[0m \u001b[0mT\u001b[0m\u001b[1;33m,\u001b[0m \u001b[0mdtype\u001b[0m\u001b[1;33m,\u001b[0m \u001b[0mcopy\u001b[0m\u001b[1;33m:\u001b[0m \u001b[0mbool\u001b[0m \u001b[1;33m=\u001b[0m \u001b[1;32mFalse\u001b[0m\u001b[1;33m,\u001b[0m \u001b[0merrors\u001b[0m\u001b[1;33m:\u001b[0m \u001b[0mstr\u001b[0m \u001b[1;33m=\u001b[0m \u001b[1;34m\"raise\"\u001b[0m\u001b[1;33m)\u001b[0m \u001b[1;33m->\u001b[0m \u001b[0mT\u001b[0m\u001b[1;33m:\u001b[0m\u001b[1;33m\u001b[0m\u001b[1;33m\u001b[0m\u001b[0m\n\u001b[1;32m--> 418\u001b[1;33m         \u001b[1;32mreturn\u001b[0m \u001b[0mself\u001b[0m\u001b[1;33m.\u001b[0m\u001b[0mapply\u001b[0m\u001b[1;33m(\u001b[0m\u001b[1;34m\"astype\"\u001b[0m\u001b[1;33m,\u001b[0m \u001b[0mdtype\u001b[0m\u001b[1;33m=\u001b[0m\u001b[0mdtype\u001b[0m\u001b[1;33m,\u001b[0m \u001b[0mcopy\u001b[0m\u001b[1;33m=\u001b[0m\u001b[0mcopy\u001b[0m\u001b[1;33m,\u001b[0m \u001b[0merrors\u001b[0m\u001b[1;33m=\u001b[0m\u001b[0merrors\u001b[0m\u001b[1;33m)\u001b[0m\u001b[1;33m\u001b[0m\u001b[1;33m\u001b[0m\u001b[0m\n\u001b[0m\u001b[0;32m    419\u001b[0m \u001b[1;33m\u001b[0m\u001b[0m\n\u001b[0;32m    420\u001b[0m     def convert(\n",
      "\u001b[1;32m~\\anaconda3\\lib\\site-packages\\pandas\\core\\internals\\managers.py\u001b[0m in \u001b[0;36mapply\u001b[1;34m(self, f, align_keys, ignore_failures, **kwargs)\u001b[0m\n\u001b[0;32m    325\u001b[0m                     \u001b[0mapplied\u001b[0m \u001b[1;33m=\u001b[0m \u001b[0mb\u001b[0m\u001b[1;33m.\u001b[0m\u001b[0mapply\u001b[0m\u001b[1;33m(\u001b[0m\u001b[0mf\u001b[0m\u001b[1;33m,\u001b[0m \u001b[1;33m**\u001b[0m\u001b[0mkwargs\u001b[0m\u001b[1;33m)\u001b[0m\u001b[1;33m\u001b[0m\u001b[1;33m\u001b[0m\u001b[0m\n\u001b[0;32m    326\u001b[0m                 \u001b[1;32melse\u001b[0m\u001b[1;33m:\u001b[0m\u001b[1;33m\u001b[0m\u001b[1;33m\u001b[0m\u001b[0m\n\u001b[1;32m--> 327\u001b[1;33m                     \u001b[0mapplied\u001b[0m \u001b[1;33m=\u001b[0m \u001b[0mgetattr\u001b[0m\u001b[1;33m(\u001b[0m\u001b[0mb\u001b[0m\u001b[1;33m,\u001b[0m \u001b[0mf\u001b[0m\u001b[1;33m)\u001b[0m\u001b[1;33m(\u001b[0m\u001b[1;33m**\u001b[0m\u001b[0mkwargs\u001b[0m\u001b[1;33m)\u001b[0m\u001b[1;33m\u001b[0m\u001b[1;33m\u001b[0m\u001b[0m\n\u001b[0m\u001b[0;32m    328\u001b[0m             \u001b[1;32mexcept\u001b[0m \u001b[1;33m(\u001b[0m\u001b[0mTypeError\u001b[0m\u001b[1;33m,\u001b[0m \u001b[0mNotImplementedError\u001b[0m\u001b[1;33m)\u001b[0m\u001b[1;33m:\u001b[0m\u001b[1;33m\u001b[0m\u001b[1;33m\u001b[0m\u001b[0m\n\u001b[0;32m    329\u001b[0m                 \u001b[1;32mif\u001b[0m \u001b[1;32mnot\u001b[0m \u001b[0mignore_failures\u001b[0m\u001b[1;33m:\u001b[0m\u001b[1;33m\u001b[0m\u001b[1;33m\u001b[0m\u001b[0m\n",
      "\u001b[1;32m~\\anaconda3\\lib\\site-packages\\pandas\\core\\internals\\blocks.py\u001b[0m in \u001b[0;36mastype\u001b[1;34m(self, dtype, copy, errors)\u001b[0m\n\u001b[0;32m    589\u001b[0m         \u001b[0mvalues\u001b[0m \u001b[1;33m=\u001b[0m \u001b[0mself\u001b[0m\u001b[1;33m.\u001b[0m\u001b[0mvalues\u001b[0m\u001b[1;33m\u001b[0m\u001b[1;33m\u001b[0m\u001b[0m\n\u001b[0;32m    590\u001b[0m \u001b[1;33m\u001b[0m\u001b[0m\n\u001b[1;32m--> 591\u001b[1;33m         \u001b[0mnew_values\u001b[0m \u001b[1;33m=\u001b[0m \u001b[0mastype_array_safe\u001b[0m\u001b[1;33m(\u001b[0m\u001b[0mvalues\u001b[0m\u001b[1;33m,\u001b[0m \u001b[0mdtype\u001b[0m\u001b[1;33m,\u001b[0m \u001b[0mcopy\u001b[0m\u001b[1;33m=\u001b[0m\u001b[0mcopy\u001b[0m\u001b[1;33m,\u001b[0m \u001b[0merrors\u001b[0m\u001b[1;33m=\u001b[0m\u001b[0merrors\u001b[0m\u001b[1;33m)\u001b[0m\u001b[1;33m\u001b[0m\u001b[1;33m\u001b[0m\u001b[0m\n\u001b[0m\u001b[0;32m    592\u001b[0m \u001b[1;33m\u001b[0m\u001b[0m\n\u001b[0;32m    593\u001b[0m         \u001b[0mnew_values\u001b[0m \u001b[1;33m=\u001b[0m \u001b[0mmaybe_coerce_values\u001b[0m\u001b[1;33m(\u001b[0m\u001b[0mnew_values\u001b[0m\u001b[1;33m)\u001b[0m\u001b[1;33m\u001b[0m\u001b[1;33m\u001b[0m\u001b[0m\n",
      "\u001b[1;32m~\\anaconda3\\lib\\site-packages\\pandas\\core\\dtypes\\cast.py\u001b[0m in \u001b[0;36mastype_array_safe\u001b[1;34m(values, dtype, copy, errors)\u001b[0m\n\u001b[0;32m   1307\u001b[0m \u001b[1;33m\u001b[0m\u001b[0m\n\u001b[0;32m   1308\u001b[0m     \u001b[1;32mtry\u001b[0m\u001b[1;33m:\u001b[0m\u001b[1;33m\u001b[0m\u001b[1;33m\u001b[0m\u001b[0m\n\u001b[1;32m-> 1309\u001b[1;33m         \u001b[0mnew_values\u001b[0m \u001b[1;33m=\u001b[0m \u001b[0mastype_array\u001b[0m\u001b[1;33m(\u001b[0m\u001b[0mvalues\u001b[0m\u001b[1;33m,\u001b[0m \u001b[0mdtype\u001b[0m\u001b[1;33m,\u001b[0m \u001b[0mcopy\u001b[0m\u001b[1;33m=\u001b[0m\u001b[0mcopy\u001b[0m\u001b[1;33m)\u001b[0m\u001b[1;33m\u001b[0m\u001b[1;33m\u001b[0m\u001b[0m\n\u001b[0m\u001b[0;32m   1310\u001b[0m     \u001b[1;32mexcept\u001b[0m \u001b[1;33m(\u001b[0m\u001b[0mValueError\u001b[0m\u001b[1;33m,\u001b[0m \u001b[0mTypeError\u001b[0m\u001b[1;33m)\u001b[0m\u001b[1;33m:\u001b[0m\u001b[1;33m\u001b[0m\u001b[1;33m\u001b[0m\u001b[0m\n\u001b[0;32m   1311\u001b[0m         \u001b[1;31m# e.g. astype_nansafe can fail on object-dtype of strings\u001b[0m\u001b[1;33m\u001b[0m\u001b[1;33m\u001b[0m\u001b[0m\n",
      "\u001b[1;32m~\\anaconda3\\lib\\site-packages\\pandas\\core\\dtypes\\cast.py\u001b[0m in \u001b[0;36mastype_array\u001b[1;34m(values, dtype, copy)\u001b[0m\n\u001b[0;32m   1255\u001b[0m \u001b[1;33m\u001b[0m\u001b[0m\n\u001b[0;32m   1256\u001b[0m     \u001b[1;32melse\u001b[0m\u001b[1;33m:\u001b[0m\u001b[1;33m\u001b[0m\u001b[1;33m\u001b[0m\u001b[0m\n\u001b[1;32m-> 1257\u001b[1;33m         \u001b[0mvalues\u001b[0m \u001b[1;33m=\u001b[0m \u001b[0mastype_nansafe\u001b[0m\u001b[1;33m(\u001b[0m\u001b[0mvalues\u001b[0m\u001b[1;33m,\u001b[0m \u001b[0mdtype\u001b[0m\u001b[1;33m,\u001b[0m \u001b[0mcopy\u001b[0m\u001b[1;33m=\u001b[0m\u001b[0mcopy\u001b[0m\u001b[1;33m)\u001b[0m\u001b[1;33m\u001b[0m\u001b[1;33m\u001b[0m\u001b[0m\n\u001b[0m\u001b[0;32m   1258\u001b[0m \u001b[1;33m\u001b[0m\u001b[0m\n\u001b[0;32m   1259\u001b[0m     \u001b[1;31m# in pandas we don't store numpy str dtypes, so convert to object\u001b[0m\u001b[1;33m\u001b[0m\u001b[1;33m\u001b[0m\u001b[0m\n",
      "\u001b[1;32m~\\anaconda3\\lib\\site-packages\\pandas\\core\\dtypes\\cast.py\u001b[0m in \u001b[0;36mastype_nansafe\u001b[1;34m(arr, dtype, copy, skipna)\u001b[0m\n\u001b[0;32m   1172\u001b[0m         \u001b[1;31m# work around NumPy brokenness, #1987\u001b[0m\u001b[1;33m\u001b[0m\u001b[1;33m\u001b[0m\u001b[0m\n\u001b[0;32m   1173\u001b[0m         \u001b[1;32mif\u001b[0m \u001b[0mnp\u001b[0m\u001b[1;33m.\u001b[0m\u001b[0missubdtype\u001b[0m\u001b[1;33m(\u001b[0m\u001b[0mdtype\u001b[0m\u001b[1;33m.\u001b[0m\u001b[0mtype\u001b[0m\u001b[1;33m,\u001b[0m \u001b[0mnp\u001b[0m\u001b[1;33m.\u001b[0m\u001b[0minteger\u001b[0m\u001b[1;33m)\u001b[0m\u001b[1;33m:\u001b[0m\u001b[1;33m\u001b[0m\u001b[1;33m\u001b[0m\u001b[0m\n\u001b[1;32m-> 1174\u001b[1;33m             \u001b[1;32mreturn\u001b[0m \u001b[0mlib\u001b[0m\u001b[1;33m.\u001b[0m\u001b[0mastype_intsafe\u001b[0m\u001b[1;33m(\u001b[0m\u001b[0marr\u001b[0m\u001b[1;33m,\u001b[0m \u001b[0mdtype\u001b[0m\u001b[1;33m)\u001b[0m\u001b[1;33m\u001b[0m\u001b[1;33m\u001b[0m\u001b[0m\n\u001b[0m\u001b[0;32m   1175\u001b[0m \u001b[1;33m\u001b[0m\u001b[0m\n\u001b[0;32m   1176\u001b[0m         \u001b[1;31m# if we have a datetime/timedelta array of objects\u001b[0m\u001b[1;33m\u001b[0m\u001b[1;33m\u001b[0m\u001b[0m\n",
      "\u001b[1;32m~\\anaconda3\\lib\\site-packages\\pandas\\_libs\\lib.pyx\u001b[0m in \u001b[0;36mpandas._libs.lib.astype_intsafe\u001b[1;34m()\u001b[0m\n",
      "\u001b[1;31mValueError\u001b[0m: invalid literal for int() with base 10: 'Cosmetics'"
     ]
    }
   ],
   "source": [
    "# Convert Order ID to integer\n",
    "\n",
    "count = 0\n",
    "mmSales = mmSales['Order ID'].astype('int')"
   ]
  },
  {
   "cell_type": "code",
   "execution_count": 4,
   "id": "d45c864f-84c4-4ff5-bab4-f03bd8e28e3a",
   "metadata": {},
   "outputs": [],
   "source": [
    "# Create a clean copy of our dataframe\n",
    "\n",
    "mmSalesClean = mmSales.copy()"
   ]
  },
  {
   "cell_type": "code",
   "execution_count": 32,
   "id": "f8f84aa6-8eb0-48d1-afbe-651ebe42895c",
   "metadata": {},
   "outputs": [
    {
     "data": {
      "text/plain": [
       "Region            0\n",
       "Country           0\n",
       "Item Type         0\n",
       "Sales Channel     0\n",
       "Order Priority    0\n",
       "Order Date        0\n",
       "Order ID          0\n",
       "Ship Date         0\n",
       "Units Sold        0\n",
       "Unit Price        0\n",
       "Unit Cost         0\n",
       "Total Revenue     0\n",
       "Total Cost        0\n",
       "Total Profit      0\n",
       "dtype: int64"
      ]
     },
     "execution_count": 32,
     "metadata": {},
     "output_type": "execute_result"
    }
   ],
   "source": [
    "# Replace missing data\n",
    "\n",
    "mmSalesClean['Item Type'].fillna('NULL', inplace=True)\n",
    "mmSalesClean['Order Priority'].fillna('NULL', inplace=True)\n",
    "mmSalesClean.isna().sum()"
   ]
  },
  {
   "cell_type": "code",
   "execution_count": 33,
   "id": "41919010-4a87-49d6-9c07-1c1ccd27909d",
   "metadata": {},
   "outputs": [
    {
     "name": "stdout",
     "output_type": "stream",
     "text": [
      "Cosmetics\n",
      "0\n",
      "Fruits\n",
      "0\n",
      "Snacks\n",
      "0\n",
      "Meat\n",
      "0\n",
      "Snacks\n",
      "0\n",
      "5\n"
     ]
    }
   ],
   "source": [
    "# Count and list the bad data in Order ID column. Then, replace them with 0\n",
    "\n",
    "count = 0\n",
    "for index, row in mmSalesClean.iterrows():\n",
    "    try:\n",
    "        # Test if the value is an integer, if it is, its okay\n",
    "        row.loc['Order ID'] = int(row.loc['Order ID'])\n",
    "    except:\n",
    "        # Bad Data\n",
    "        # Replace any non-integer values with 0\n",
    "        print(row.loc['Order ID'])\n",
    "        mmSalesClean.loc[int(index), 'Order ID'] = 0\n",
    "        print(mmSalesClean.loc[int(index), 'Order ID'])\n",
    "        count += 1\n",
    "print(count)"
   ]
  },
  {
   "cell_type": "code",
   "execution_count": 34,
   "id": "26be273b-9b2e-4a0e-ae2e-5bd41490c3af",
   "metadata": {},
   "outputs": [
    {
     "name": "stdout",
     "output_type": "stream",
     "text": [
      "154.06\n",
      "NULL\n",
      "437.2\n",
      "NULL\n",
      "651.21\n",
      "NULL\n",
      "3\n"
     ]
    }
   ],
   "source": [
    "# Count and list the bad data in Country column. Then replace them with NULL.\n",
    "\n",
    "count = 0\n",
    "for index, row in mmSalesClean.iterrows():\n",
    "    try:\n",
    "        # Test if the data is a float, and if it is, it's bad data\n",
    "        row.loc['Country'] = float(row.loc['Country'])\n",
    "        print(mmSalesClean.loc[int(index), 'Country'])\n",
    "        mmSalesClean.loc[int(index), 'Country'] = 'NULL'\n",
    "        print(mmSalesClean.loc[int(index), 'Country'])\n",
    "        count += 1\n",
    "    except:\n",
    "        1==1\n",
    "\n",
    "print(count)"
   ]
  },
  {
   "cell_type": "code",
   "execution_count": 35,
   "id": "dfaf5b7e-93f9-4dae-ba0a-0e70134c429a",
   "metadata": {},
   "outputs": [],
   "source": [
    "# Remove rows with bad data\n",
    "# Rows with bad data are rows that have \"NULL\" in Item Type, Order Priority, and Country and 0 in Order ID\n",
    "\n",
    "mmSalesClean = mmSalesClean[mmSalesClean['Item Type'].str.contains('NULL')==False]\n",
    "mmSalesClean = mmSalesClean[mmSalesClean['Order Priority'].str.contains('NULL')==False]\n",
    "mmSalesClean = mmSalesClean[mmSalesClean['Country'].str.contains('NULL')==False]\n",
    "mmSalesClean.drop(mmSalesClean.index[mmSalesClean['Order ID'] == 0], inplace=True)"
   ]
  },
  {
   "cell_type": "code",
   "execution_count": 36,
   "id": "1f050751-e3e6-4b23-bf32-6dc2a5e0cda4",
   "metadata": {},
   "outputs": [
    {
     "name": "stdout",
     "output_type": "stream",
     "text": [
      "0\n"
     ]
    }
   ],
   "source": [
    "print(mmSalesClean['Item Type'][mmSalesClean['Item Type'] == 'NULL'].count())"
   ]
  },
  {
   "cell_type": "code",
   "execution_count": 37,
   "id": "84fbbe69-8577-49ea-9f13-8cb87b198428",
   "metadata": {},
   "outputs": [
    {
     "name": "stdout",
     "output_type": "stream",
     "text": [
      "0\n"
     ]
    }
   ],
   "source": [
    "print(mmSalesClean['Order Priority'][mmSalesClean['Order Priority'] == 'NULL'].count())"
   ]
  },
  {
   "cell_type": "code",
   "execution_count": 38,
   "id": "5cfb07bc-6b2b-42dd-86dc-daa7a2a308f3",
   "metadata": {},
   "outputs": [
    {
     "name": "stdout",
     "output_type": "stream",
     "text": [
      "0\n"
     ]
    }
   ],
   "source": [
    "print(mmSalesClean['Country'][mmSalesClean['Country'] == 'NULL'].count())"
   ]
  },
  {
   "cell_type": "code",
   "execution_count": 39,
   "id": "37c838e4-7614-4767-9ff0-b32aa9a4a959",
   "metadata": {},
   "outputs": [
    {
     "name": "stdout",
     "output_type": "stream",
     "text": [
      "0\n"
     ]
    }
   ],
   "source": [
    "print(mmSalesClean['Order ID'][mmSalesClean['Order ID'] == 0].count())"
   ]
  },
  {
   "cell_type": "code",
   "execution_count": 62,
   "id": "8e604c32-8b68-49c3-8518-fca3e873975a",
   "metadata": {},
   "outputs": [],
   "source": [
    "mmSalesClean.to_csv('DataProject/MM_Sales_Clean.csv', index=False)"
   ]
  },
  {
   "cell_type": "markdown",
   "id": "73cda215-b47b-4e84-ade5-59cc2431578f",
   "metadata": {},
   "source": [
    "### Part 2: Exploratory Data Analysis with Reports & Visualizations"
   ]
  },
  {
   "cell_type": "code",
   "execution_count": 5,
   "id": "0babcb3a-f32b-4e81-856b-180d76cf0c5e",
   "metadata": {},
   "outputs": [],
   "source": [
    "mmSalesNew = pd.read_csv('DataProject/MM_Sales_Clean.csv', sep=',')"
   ]
  },
  {
   "cell_type": "code",
   "execution_count": 41,
   "id": "e0882474-b32a-47be-9075-e5da1958d022",
   "metadata": {},
   "outputs": [
    {
     "name": "stdout",
     "output_type": "stream",
     "text": [
      "(49971, 14)\n",
      "<class 'pandas.core.frame.DataFrame'>\n",
      "RangeIndex: 49971 entries, 0 to 49970\n",
      "Data columns (total 14 columns):\n",
      " #   Column          Non-Null Count  Dtype  \n",
      "---  ------          --------------  -----  \n",
      " 0   Region          49971 non-null  object \n",
      " 1   Country         49971 non-null  object \n",
      " 2   Item Type       49971 non-null  object \n",
      " 3   Sales Channel   49971 non-null  object \n",
      " 4   Order Priority  49971 non-null  object \n",
      " 5   Order Date      49971 non-null  object \n",
      " 6   Order ID        49971 non-null  int64  \n",
      " 7   Ship Date       49971 non-null  object \n",
      " 8   Units Sold      49971 non-null  int64  \n",
      " 9   Unit Price      49971 non-null  float64\n",
      " 10  Unit Cost       49971 non-null  float64\n",
      " 11  Total Revenue   49971 non-null  float64\n",
      " 12  Total Cost      49971 non-null  float64\n",
      " 13  Total Profit    49971 non-null  float64\n",
      "dtypes: float64(5), int64(2), object(7)\n",
      "memory usage: 5.3+ MB\n"
     ]
    }
   ],
   "source": [
    "# Information on the new file\n",
    "\n",
    "print(mmSalesNew.shape)\n",
    "\n",
    "mmSalesNew.info()"
   ]
  },
  {
   "cell_type": "markdown",
   "id": "e1bfca16-0b52-4426-9120-1929b8becd75",
   "metadata": {},
   "source": [
    "#### 1.1"
   ]
  },
  {
   "cell_type": "code",
   "execution_count": 122,
   "id": "e8acb27b-6a00-4546-8c4d-3d62d8bdd29d",
   "metadata": {},
   "outputs": [
    {
     "name": "stdout",
     "output_type": "stream",
     "text": [
      "Trinidad and Tobago                 321\n",
      "Guinea                              318\n",
      "Cape Verde                          314\n",
      "Maldives                            311\n",
      "Finland                             310\n",
      "Democratic Republic of the Congo    308\n",
      "Samoa                               306\n",
      "Malta                               305\n",
      "China                               303\n",
      "South Sudan                         302\n",
      "Name: Country, dtype: int64\n"
     ]
    }
   ],
   "source": [
    "# List the top 10 countries that have the most transactions\n",
    "\n",
    "countryTop10 = mmSalesNew['Country'].value_counts().head(10)\n",
    "print(countryTop10)"
   ]
  },
  {
   "cell_type": "code",
   "execution_count": 43,
   "id": "e3ebc423-fdfd-47ae-9700-9496d49d6d3b",
   "metadata": {},
   "outputs": [
    {
     "data": {
      "image/png": "[encoded data removed]",
      "text/plain": [
       "<Figure size 1080x360 with 1 Axes>"
      ]
     },
     "metadata": {
      "needs_background": "light"
     },
     "output_type": "display_data"
    }
   ],
   "source": [
    "# Bar graph showing top 10 values by country\n",
    "\n",
    "plt.figure(figsize=(15, 5))\n",
    "plt.bar(countryTop10.index, countryTop10.values, color='purple')\n",
    "plt.title('Top 10 Countries that has the Most Transactions')\n",
    "plt.xlabel('Country')\n",
    "plt.ylabel('No. of Sales')\n",
    "plt.show()"
   ]
  },
  {
   "cell_type": "markdown",
   "id": "189b868b-ef74-47e6-8882-47e0da12393a",
   "metadata": {},
   "source": [
    "#### 1.2 "
   ]
  },
  {
   "cell_type": "code",
   "execution_count": 53,
   "id": "8f4237e9-8adf-4dff-995a-5982e514fdaa",
   "metadata": {},
   "outputs": [],
   "source": [
    "# Write down the result from 1.1 to a text file using dictionary and for loop\n",
    "\n",
    "country = mmSalesNew['Country'].value_counts(dropna=False).head(10).keys().tolist()\n",
    "countryCount = mmSalesNew['Country'].value_counts(dropna=False).head(10).tolist()\n",
    "\n",
    "top10_dict = dict(zip(country, countryCount))\n",
    "\n",
    "with open('DataProject/MM_Rankings.txt', 'w+') as mmRankings:\n",
    "    mmRankings.writelines('Countries Most Sale Transactions:\\n')\n",
    "    for k, v in top10_dict.items():\n",
    "        mmRankings.writelines(f'{k}: {v}\\n')\n",
    "    mmRankings.writelines('The country we should build our shipping center is Finland because we had 310 transactions'\n",
    "                      ' from there, and their number of transactions is ranked number five after Maldives.\\n')\n",
    "    "
   ]
  },
  {
   "cell_type": "markdown",
   "id": "715b9b62-e9d3-4d17-ae7c-841128e60fa5",
   "metadata": {},
   "source": [
    "#### 2.1"
   ]
  },
  {
   "cell_type": "code",
   "execution_count": 30,
   "id": "c21801f2-d9e4-44a3-987f-d0ff541a1baa",
   "metadata": {},
   "outputs": [
    {
     "name": "stdout",
     "output_type": "stream",
     "text": [
      "Online     30183\n",
      "Offline    19788\n",
      "Name: Sales Channel, dtype: int64\n"
     ]
    }
   ],
   "source": [
    "# Determine how many online and offline orders that our company takes\n",
    "\n",
    "salesType = mmSalesNew['Sales Channel'].value_counts()\n",
    "print(salesType)"
   ]
  },
  {
   "cell_type": "markdown",
   "id": "32f22640-8181-4443-8ffe-e8056d682096",
   "metadata": {},
   "source": [
    "#### 2.2"
   ]
  },
  {
   "cell_type": "code",
   "execution_count": 32,
   "id": "2c3a15aa-22b2-43df-b5bf-19b7b8cd4344",
   "metadata": {},
   "outputs": [
    {
     "name": "stdout",
     "output_type": "stream",
     "text": [
      "M    19881\n",
      "H    15094\n",
      "L     9984\n",
      "C     5012\n",
      "Name: Order Priority, dtype: int64\n"
     ]
    }
   ],
   "source": [
    "# Determine the count of the different Order Priority types\n",
    "\n",
    "priorityType = mmSalesNew['Order Priority'].value_counts()\n",
    "print(priorityType)"
   ]
  },
  {
   "cell_type": "markdown",
   "id": "870e365c-1232-42f4-993e-575ad906b4f7",
   "metadata": {},
   "source": [
    "#### 2.3"
   ]
  },
  {
   "cell_type": "code",
   "execution_count": 54,
   "id": "ad8ecb62-2dbc-4ace-9b63-fc552b395687",
   "metadata": {},
   "outputs": [
    {
     "data": {
      "image/png": "[encoded data removed]",
      "text/plain": [
       "<Figure size 576x576 with 1 Axes>"
      ]
     },
     "metadata": {},
     "output_type": "display_data"
    },
    {
     "name": "stdout",
     "output_type": "stream",
     "text": [
      "\n",
      "\n"
     ]
    },
    {
     "data": {
      "image/png": "[encoded data removed]",
      "text/plain": [
       "<Figure size 576x576 with 1 Axes>"
      ]
     },
     "metadata": {},
     "output_type": "display_data"
    }
   ],
   "source": [
    "# Create 2 pie charts, 1 for Order Type, and another for Order Priority Type\n",
    "\n",
    "plt.figure(figsize=(8,8))\n",
    "plt.pie(salesType, labels=salesType.index, autopct='%.2f')\n",
    "plt.axis('equal')\n",
    "plt.legend(loc=1, title='Type of Order')\n",
    "plt.show()\n",
    "\n",
    "print('\\n')\n",
    "\n",
    "plt.figure(figsize=(8,8))\n",
    "plt.pie(priorityType, labels=priorityType.index, autopct='%.2f')\n",
    "plt.axis('equal')\n",
    "plt.legend(loc=1, title='Type of Priority')\n",
    "plt.show()"
   ]
  },
  {
   "cell_type": "markdown",
   "id": "f8ddc90c-5789-476a-9e5d-bab432d5878f",
   "metadata": {},
   "source": [
    "#### 2.4"
   ]
  },
  {
   "cell_type": "code",
   "execution_count": 54,
   "id": "18196565-8dbd-4099-b5d4-fc8f4b22216c",
   "metadata": {},
   "outputs": [],
   "source": [
    "# Write down the result from 2.1 and 2.2 to a text file using dictionary and for loop\n",
    "\n",
    "sales = mmSalesNew['Sales Channel'].value_counts(dropna=False).keys().tolist()\n",
    "salesCount = mmSalesNew['Sales Channel'].value_counts(dropna=False).tolist()\n",
    "priority = mmSalesNew['Order Priority'].value_counts(dropna=False).keys().tolist()\n",
    "priorityCount = mmSalesNew['Order Priority'].value_counts(dropna=False).tolist()\n",
    "    \n",
    "salesTypeDict =dict(zip(sales, salesCount))\n",
    "priorityTypeDict = dict(zip(priority, priorityCount))\n",
    "\n",
    "with open('DataProject/MM_Rankings.txt', 'a+') as mmRankings:\n",
    "    mmRankings.writelines('\\nSales Channel:\\n')\n",
    "    for k, v in salesTypeDict.items():\n",
    "        mmRankings.writelines(f'{k}: {v}\\n')\n",
    "    mmRankings.writelines('We do more online sales.\\n')\n",
    "    mmRankings.writelines('\\nOrder Priorities\\n')\n",
    "    for k, v in priorityTypeDict.items():\n",
    "        mmRankings.writelines(f'{k}: {v}\\n')\n",
    "    mmRankings.writelines('We do more M order priorities.\\n')                                                      "
   ]
  },
  {
   "cell_type": "markdown",
   "id": "49b5d756-9a74-4975-b0e6-45dcfc734f10",
   "metadata": {},
   "source": [
    "#### 3.1"
   ]
  },
  {
   "cell_type": "code",
   "execution_count": 68,
   "id": "6d061365-2476-41f5-991e-543b3546fc9b",
   "metadata": {},
   "outputs": [
    {
     "data": {
      "image/png": "[encoded data removed]",
      "text/plain": [
       "<Figure size 1440x1080 with 1 Axes>"
      ]
     },
     "metadata": {},
     "output_type": "display_data"
    }
   ],
   "source": [
    "# Boxplot showing the Total Profits distribution by Item Type\n",
    "\n",
    "sns.set(style='whitegrid')\n",
    "plt.figure(figsize=(20,15))\n",
    "ax = sns.boxplot(x=mmSalesNew['Item Type'], y=mmSalesNew['Total Profit'])\n"
   ]
  },
  {
   "cell_type": "markdown",
   "id": "674f85c2-d889-4a60-9522-eabb62056865",
   "metadata": {},
   "source": [
    "#### 3.2"
   ]
  },
  {
   "cell_type": "code",
   "execution_count": 47,
   "id": "eb90850b-06d0-421e-be0c-871481a56f20",
   "metadata": {},
   "outputs": [
    {
     "name": "stdout",
     "output_type": "stream",
     "text": [
      "Item Type\n",
      "Baby Food         1942865748.12\n",
      "Beverages          327559249.08\n",
      "Cereal            1824726412.29\n",
      "Clothes           1520832019.68\n",
      "Cosmetics         3638407966.75\n",
      "Fruits              51010570.92\n",
      "Household         3401180998.06\n",
      "Meat              1196342404.40\n",
      "Office Supplies   2605440187.50\n",
      "Personal Care      535250525.60\n",
      "Snacks            1149715758.72\n",
      "Vegetables        1322639660.24\n",
      "Name: Total Profit, dtype: float64\n"
     ]
    }
   ],
   "source": [
    "# Total profit earned from each item type\n",
    "\n",
    "itemProfit = mmSalesNew.groupby(['Item Type'])['Total Profit'].sum()\n",
    "print(itemProfit)"
   ]
  },
  {
   "cell_type": "markdown",
   "id": "496a557c-7045-48ab-bbe5-245f0576c800",
   "metadata": {
    "tags": []
   },
   "source": [
    "#### 3.3"
   ]
  },
  {
   "cell_type": "code",
   "execution_count": 48,
   "id": "d734d27a-6662-4aad-ba7e-7f943a33f4cc",
   "metadata": {},
   "outputs": [
    {
     "data": {
      "image/png": "[encoded data removed]",
      "text/plain": [
       "<Figure size 1296x576 with 1 Axes>"
      ]
     },
     "metadata": {
      "needs_background": "light"
     },
     "output_type": "display_data"
    }
   ],
   "source": [
    "# Bar chart showing the sum of different Item Types\n",
    "\n",
    "plt.figure(figsize=(18,8))\n",
    "plt.title('Sum of Different Item Types')\n",
    "plt.bar(itemProfit.index, itemProfit.values, color='green')\n",
    "plt.xlabel('Item Types')\n",
    "plt.ylabel('Total Profit ($ Billion)')\n",
    "plt.show()"
   ]
  },
  {
   "cell_type": "markdown",
   "id": "5b6606c6-95a8-4569-9254-edd779ebce16",
   "metadata": {},
   "source": [
    "#### 3.4"
   ]
  },
  {
   "cell_type": "code",
   "execution_count": 35,
   "id": "f0af6f6f-7f68-4d91-bb03-f615748821c2",
   "metadata": {},
   "outputs": [
    {
     "name": "stdout",
     "output_type": "stream",
     "text": [
      "Item Type\n",
      "Cosmetics         3638407966.75\n",
      "Household         3401180998.06\n",
      "Office Supplies   2605440187.50\n",
      "Name: Total Profit, dtype: float64\n"
     ]
    }
   ],
   "source": [
    "# List the top 3 most profitable items\n",
    "\n",
    "itemTop3 = mmSalesNew.groupby(['Item Type'])['Total Profit'].sum().nlargest(3)\n",
    "print(itemTop3)"
   ]
  },
  {
   "cell_type": "markdown",
   "id": "746bdc1b-1b3f-4902-b34c-93e27ca22a12",
   "metadata": {},
   "source": [
    "#### 3.5"
   ]
  },
  {
   "cell_type": "code",
   "execution_count": 55,
   "id": "329dc707-5ae5-415c-ad5f-471b8e8e317d",
   "metadata": {},
   "outputs": [],
   "source": [
    "# Write down the result from 3.4 to a text file. \n",
    "\n",
    "with open('DataProject/MM_Rankings.txt', 'a+') as mmRankings:\n",
    "    mmRankings.writelines('\\n')\n",
    "    mmRankings.writelines('Highest Selling Items:\\n')\n",
    "    mmRankings.writelines('Item 1: Cosmetics\\n')\n",
    "    mmRankings.writelines('Item 2: Household\\n')\n",
    "    mmRankings.writelines('Item 3: Office Supplies\\n')\n",
    "    mmRankings.writelines('We profited from cosmetics the most.\\n')"
   ]
  },
  {
   "cell_type": "markdown",
   "id": "b4f839fe-bddd-45a8-88f8-8f31f3d64146",
   "metadata": {},
   "source": [
    "#### 3.6"
   ]
  },
  {
   "cell_type": "code",
   "execution_count": 1,
   "id": "3ab65ee8-8fcd-42a3-b8b8-3373653ebd28",
   "metadata": {},
   "outputs": [
    {
     "data": {
      "text/plain": [
       "'\\nThe boxplot shows the relationship between the 12 different item types we sell and the total \\nprofit earned from each item type. From the given result, I can tell that our top 3 profit come from \\nitems related to Household, Cosmetics, and Office Supplies. On the other hand, we earned the least \\nprofit from selling Fruits where profit margin is close to 0. Therefore, I would say that the Marvel\\nMart should either consider on improving the sales of Fruits, or consider on stopping the sales and \\nreplace it with other products. In this way, the company would be able to generate more profit.\\n'"
      ]
     },
     "execution_count": 1,
     "metadata": {},
     "output_type": "execute_result"
    }
   ],
   "source": [
    "'''\n",
    "The boxplot shows the relationship between the 12 different item types we sell and the total \n",
    "profit earned from each item type. From the given result, I can tell that our top 3 profit come from \n",
    "items related to Household, Cosmetics, and Office Supplies. On the other hand, we earned the least \n",
    "profit from selling Fruits where profit margin is close to 0. Therefore, I would say that the Marvel\n",
    "Mart should either consider on improving the sales of Fruits, or consider on stopping the sales and \n",
    "replace it with other products. In this way, the company would be able to generate more profit.\n",
    "'''"
   ]
  },
  {
   "cell_type": "markdown",
   "id": "2409f3a2-9879-4000-81db-61f319fd328e",
   "metadata": {},
   "source": [
    "#### 4.1"
   ]
  },
  {
   "cell_type": "code",
   "execution_count": 95,
   "id": "28e9e14c-235a-4481-9230-05687798aa0a",
   "metadata": {},
   "outputs": [
    {
     "name": "stdout",
     "output_type": "stream",
     "text": [
      "Sum value of:\n",
      "Units Sold        249818150.00\n",
      "Unit Cost           9360768.32\n",
      "Total Revenue   66145004417.17\n",
      "Total Cost      46629032915.81\n",
      "Total Profit    19515971501.36\n",
      "dtype: float64\n"
     ]
    }
   ],
   "source": [
    "# Get the sum of all values in Units Sold, Unit Cost, Total Revenue, Total Cost, and Total Profit column\n",
    "\n",
    "print('Sum value of:')\n",
    "columns1 = ['Units Sold', 'Unit Cost', 'Total Revenue', 'Total Cost', 'Total Profit']\n",
    "sums1 = mmSalesNew[columns1].sum(axis=0)\n",
    "print(sums1)"
   ]
  },
  {
   "cell_type": "markdown",
   "id": "eaafd8c7-f542-4ba2-a73e-7baa917409ba",
   "metadata": {},
   "source": [
    "#### 4.2"
   ]
  },
  {
   "cell_type": "code",
   "execution_count": 96,
   "id": "935b681a-951f-4ae7-9727-68f072086117",
   "metadata": {},
   "outputs": [
    {
     "name": "stdout",
     "output_type": "stream",
     "text": [
      "Average Value of:\n",
      "Units Sold         4999.26\n",
      "Unit Cost           187.32\n",
      "Total Revenue   1323667.82\n",
      "Total Cost       933121.87\n",
      "Total Profit     390545.95\n",
      "dtype: float64\n"
     ]
    }
   ],
   "source": [
    "# Get the average of all values in Units Sold, Unit Cost, Total Revenue, Total Cost, and Total Profit column\n",
    "\n",
    "print('Average Value of:')\n",
    "columns1 = ['Units Sold', 'Unit Cost', 'Total Revenue', 'Total Cost', 'Total Profit']\n",
    "avgs1 = mmSalesNew[columns1].mean(axis=0)\n",
    "print(avgs1)"
   ]
  },
  {
   "cell_type": "markdown",
   "id": "f6a721f6-5e9c-4cc7-a972-18e34bd7be3c",
   "metadata": {},
   "source": [
    "#### 4.3"
   ]
  },
  {
   "cell_type": "code",
   "execution_count": 97,
   "id": "5528577f-d6ce-49a3-bc96-9b9739fb5b5c",
   "metadata": {},
   "outputs": [
    {
     "name": "stdout",
     "output_type": "stream",
     "text": [
      "Maximum Value of:\n",
      "Units Sold        10000.00\n",
      "Unit Cost           524.96\n",
      "Total Revenue   6682031.73\n",
      "Total Cost      5249075.04\n",
      "Total Profit    1738178.39\n",
      "dtype: float64\n"
     ]
    }
   ],
   "source": [
    "# Get the maximum of all values in Units Sold, Unit Cost, Total Revenue, Total Cost, and Total Profit column\n",
    "\n",
    "print('Maximum Value of:')\n",
    "columns1 = ['Units Sold', 'Unit Cost', 'Total Revenue', 'Total Cost', 'Total Profit']\n",
    "maxs1 = mmSalesNew[columns1].max(axis=0)\n",
    "print(maxs1)"
   ]
  },
  {
   "cell_type": "markdown",
   "id": "af0f983e-726c-48c2-8d1a-d1b1bc90b496",
   "metadata": {},
   "source": [
    "#### 4.4 "
   ]
  },
  {
   "cell_type": "code",
   "execution_count": 90,
   "id": "b9b26390-669e-481b-bc90-68330d2b2448",
   "metadata": {},
   "outputs": [
    {
     "data": {
      "image/png": "[encoded data removed]",
      "text/plain": [
       "<Figure size 1080x360 with 1 Axes>"
      ]
     },
     "metadata": {},
     "output_type": "display_data"
    },
    {
     "name": "stdout",
     "output_type": "stream",
     "text": [
      "\n",
      "\n"
     ]
    },
    {
     "data": {
      "image/png": "[encoded data removed]",
      "text/plain": [
       "<Figure size 1080x360 with 1 Axes>"
      ]
     },
     "metadata": {},
     "output_type": "display_data"
    }
   ],
   "source": [
    "# Create two line plots, 1 for the the Sums, and 1 for the Averages and Maximums\n",
    "\n",
    "columns2 = ['Total Revenue', 'Total Cost', 'Total Profit']\n",
    "sums2 = mmSalesNew[columns2].sum(axis=0)\n",
    "avgs2 = mmSalesNew[columns2].mean(axis=0)\n",
    "maxs2 = mmSalesNew[columns2].max(axis=0)\n",
    "\n",
    "plt.figure(figsize=(15,5))\n",
    "plt.plot(sums2.index, sums2.values)\n",
    "plt.title('Line Plot of Sums')\n",
    "plt.xlabel('Sums')\n",
    "plt.ylabel('Values')\n",
    "plt.show()\n",
    "\n",
    "print('\\n')\n",
    "\n",
    "plt.figure(figsize=(15,5))\n",
    "plt.plot(avgs2.index, avgs2.values, label = 'Average')\n",
    "plt.plot(maxs2.index, maxs2.values, label='Maximum')\n",
    "plt.title('Line Plot of Averages and Maximums')\n",
    "plt.legend()\n",
    "plt.xlabel('Averages and Maximmums')\n",
    "plt.ylabel('Values')\n",
    "plt.show()\n"
   ]
  },
  {
   "cell_type": "code",
   "execution_count": null,
   "id": "c1dd4631-02c1-4ae5-a09d-fd33991bde41",
   "metadata": {},
   "outputs": [],
   "source": []
  },
  {
   "cell_type": "markdown",
   "id": "480bcab0-3531-4ada-98fb-19e6407c1f43",
   "metadata": {},
   "source": [
    "#### 4.5"
   ]
  },
  {
   "cell_type": "code",
   "execution_count": 117,
   "id": "d87b8ba1-dbc9-41cc-850c-6a07f24b3c25",
   "metadata": {},
   "outputs": [],
   "source": [
    "# Write down the results from 4.1-4.3 to a text file using dictionary and for loops\n",
    "\n",
    "sumDict = dict(zip(columns1, sums1))\n",
    "avgDict = dict(zip(columns1, avgs1))\n",
    "maxDict = dict(zip(columns1, maxs1))\n",
    "\n",
    "with open('DataProject/MM_Calc.txt', 'w+') as mmCalc:\n",
    "    mmCalc.writelines('Sums:\\n')\n",
    "    for k, v in sumDict.items():\n",
    "        mmCalc.writelines(f'{k}: {v}\\n')   \n",
    "    mmCalc.writelines('\\nAverages:\\n')\n",
    "    for k, v in avgDict.items():\n",
    "        mmCalc.writelines(f'{k}: {v}\\n')  \n",
    "    mmCalc.writelines('\\nMaximums:\\n')\n",
    "    for k, v in maxDict.items():\n",
    "        mmCalc.writelines(f'{k}: {v}\\n')\n",
    "    "
   ]
  },
  {
   "cell_type": "markdown",
   "id": "588718d9-669f-41b3-8cf6-03d7e8edf7b2",
   "metadata": {},
   "source": [
    "### Part 3: Cross-Reference Statistics"
   ]
  },
  {
   "cell_type": "markdown",
   "id": "b8ff156f-608a-4933-a5a3-833baaa219a8",
   "metadata": {
    "tags": []
   },
   "source": [
    "#### 1.1"
   ]
  },
  {
   "cell_type": "code",
   "execution_count": 79,
   "id": "79bb76ba-2306-4833-b6f2-e8ded88dc49f",
   "metadata": {},
   "outputs": [
    {
     "name": "stdout",
     "output_type": "stream",
     "text": [
      "Region\n",
      "Asia                                 [Indonesia, India, South Korea, Kazakhstan, Mo...\n",
      "Australia and Oceania                [Tuvalu, Samoa , Fiji, Marshall Islands, New Z...\n",
      "Central America and the Caribbean    [Antigua and Barbuda , Saint Kitts and Nevis ,...\n",
      "Europe                               [Iceland, Russia, Moldova , Malta, Greece, Ukr...\n",
      "Middle East and North Africa         [Turkey, Iraq, Kuwait, Tunisia , Yemen, United...\n",
      "North America                        [Greenland, United States of America, Canada, ...\n",
      "Sub-Saharan Africa                   [Namibia, Djibouti, Cameroon, Nigeria, Senegal...\n",
      "Name: Country, dtype: object\n"
     ]
    }
   ],
   "source": [
    "# List of regions and the countries\n",
    "\n",
    "region = mmSalesNew.groupby('Region')['Country'].unique()\n",
    "print(region)\n",
    "\n",
    "#for k, v in region.items():\n",
    "    #regionCountry = pd.DataFrame({k: pd.Series(v)})\n",
    "    #print(regionCountry)\n",
    "\n",
    "regionCountry = pd.DataFrame(dict([(k, pd.Series(v)) for k, v in region.items()]))\n",
    "#print(regionCountry)"
   ]
  },
  {
   "cell_type": "markdown",
   "id": "eaed2bed-fc84-46e6-bd1c-b0141869ec0d",
   "metadata": {},
   "source": [
    "#### 2.1"
   ]
  },
  {
   "cell_type": "code",
   "execution_count": 74,
   "id": "ddd60e83-9083-4e0f-a146-3651bd676c9d",
   "metadata": {},
   "outputs": [],
   "source": [
    "# Write to a new CSV file \n",
    "\n",
    "regionCountry.to_csv('DataProject/Countries_By_Region.csv', index=False, header=True)"
   ]
  }
 ],
 "metadata": {
  "kernelspec": {
   "display_name": "Python 3 (ipykernel)",
   "language": "python",
   "name": "python3"
  },
  "language_info": {
   "codemirror_mode": {
    "name": "ipython",
    "version": 3
   },
   "file_extension": ".py",
   "mimetype": "text/x-python",
   "name": "python",
   "nbconvert_exporter": "python",
   "pygments_lexer": "ipython3",
   "version": "3.9.7"
  },
  "toc-autonumbering": false,
  "toc-showmarkdowntxt": false,
  "toc-showtags": false
 },
 "nbformat": 4,
 "nbformat_minor": 5
}
