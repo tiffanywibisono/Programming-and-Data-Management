{
 "cells": [
  {
   "cell_type": "markdown",
   "id": "ffcd00b2-03f7-4faa-b817-ca98c5812397",
   "metadata": {},
   "source": [
    "##### Python Lab #1\n",
    "##### Tiffany Wibisono"
   ]
  },
  {
   "cell_type": "markdown",
   "id": "c9ea64d9-e57b-4fac-b880-121914b409d4",
   "metadata": {},
   "source": [
    "Question 1"
   ]
  },
  {
   "cell_type": "code",
   "execution_count": 1,
   "id": "9eb2de4a-7a88-4053-a8b6-854c089b7cc2",
   "metadata": {},
   "outputs": [
    {
     "name": "stdout",
     "output_type": "stream",
     "text": [
      "My name is Tiffany Wibisono.\n",
      "I am a student at Seattle University.\n"
     ]
    }
   ],
   "source": [
    "print('My name is Tiffany Wibisono.\\nI am a student at Seattle University.')"
   ]
  },
  {
   "cell_type": "markdown",
   "id": "2ccbafbb-c966-4722-bdcd-3ea5b62f7b8c",
   "metadata": {},
   "source": [
    "Question 2"
   ]
  },
  {
   "cell_type": "code",
   "execution_count": 14,
   "id": "1e6f61fc-8f21-490f-b062-e674247cc463",
   "metadata": {},
   "outputs": [
    {
     "name": "stdout",
     "output_type": "stream",
     "text": [
      "Programming leads to massive 'intelligence'.\n"
     ]
    }
   ],
   "source": [
    "print(\"Programming leads to massive 'intelligence'.\")"
   ]
  },
  {
   "cell_type": "markdown",
   "id": "54be68ef-6da6-4010-b0b3-4635aeb64d9f",
   "metadata": {},
   "source": [
    "Question 3"
   ]
  },
  {
   "cell_type": "code",
   "execution_count": 38,
   "id": "d43c1a51-58ed-458f-8d22-3446829b3a42",
   "metadata": {},
   "outputs": [
    {
     "name": "stdout",
     "output_type": "stream",
     "text": [
      "Corgi\n",
      "Jasper\n"
     ]
    }
   ],
   "source": [
    "breed = \"Corgi\"\n",
    "name = \"Jasper\"\n",
    "print(breed)\n",
    "print(name)"
   ]
  },
  {
   "cell_type": "markdown",
   "id": "0ae813bd-3481-44b8-ba98-08b51bc4db0b",
   "metadata": {},
   "source": [
    "Question 4"
   ]
  },
  {
   "cell_type": "code",
   "execution_count": 39,
   "id": "7a281f7e-be9f-4e40-aad8-5ef25a4c690d",
   "metadata": {},
   "outputs": [
    {
     "name": "stdout",
     "output_type": "stream",
     "text": [
      "212\n"
     ]
    }
   ],
   "source": [
    "var1 = 12\n",
    "var2 = 200\n",
    "ans = var1 + var2\n",
    "print(ans)"
   ]
  },
  {
   "cell_type": "markdown",
   "id": "d36baf8f-5295-4d42-acab-b8d62498f83a",
   "metadata": {},
   "source": [
    "Question 5"
   ]
  },
  {
   "cell_type": "code",
   "execution_count": 37,
   "id": "615dd345-7311-4c2a-b0f8-8427f6858060",
   "metadata": {},
   "outputs": [
    {
     "name": "stdout",
     "output_type": "stream",
     "text": [
      "200\n"
     ]
    }
   ],
   "source": [
    "x = \"100\"   # string\n",
    "y = 100   # integer\n",
    "z = int(x)\n",
    "ans = y + z\n",
    "print(ans)"
   ]
  },
  {
   "cell_type": "markdown",
   "id": "f99de62f-d84d-4ab4-8e92-8f5db4148953",
   "metadata": {},
   "source": [
    "Question 6"
   ]
  },
  {
   "cell_type": "code",
   "execution_count": null,
   "id": "f7565eb9-30ad-4129-b651-c31365fe5b44",
   "metadata": {},
   "outputs": [
    {
     "name": "stdout",
     "output_type": "stream",
     "text": [
      "100100\n"
     ]
    }
   ],
   "source": [
    "x = \"100\"   \n",
    "y = 100   \n",
    "ans = x + str(y)\n",
    "print(ans)"
   ]
  },
  {
   "cell_type": "markdown",
   "id": "ff10636e-3949-40b9-a509-b3c56d2bfba5",
   "metadata": {},
   "source": [
    "Question 7"
   ]
  },
  {
   "cell_type": "code",
   "execution_count": 4,
   "id": "5498897a-130b-4fc7-a1f2-b714fecfe127",
   "metadata": {},
   "outputs": [
    {
     "name": "stdout",
     "output_type": "stream",
     "text": [
      "58.5\n"
     ]
    }
   ],
   "source": [
    "ans = 12 * 5 - 3 / 2\n",
    "print(ans)"
   ]
  },
  {
   "cell_type": "markdown",
   "id": "b723124c-2171-419e-9391-df0387cf108a",
   "metadata": {},
   "source": [
    "###### Since the result is decimal, the type of ans is float."
   ]
  },
  {
   "cell_type": "markdown",
   "id": "b3799d37-c444-474a-8aad-30613664c46c",
   "metadata": {},
   "source": [
    "Question 8"
   ]
  },
  {
   "cell_type": "code",
   "execution_count": 44,
   "id": "04f59ff0-a5a3-49d2-b695-1fb2d5b40709",
   "metadata": {},
   "outputs": [
    {
     "name": "stdout",
     "output_type": "stream",
     "text": [
      "You cannot divide a number by 0.\n"
     ]
    }
   ],
   "source": [
    "num = 5\n",
    "try:\n",
    "    num % 0\n",
    "except:\n",
    "    print(\"You cannot divide a number by 0.\")"
   ]
  },
  {
   "cell_type": "markdown",
   "id": "f2141cd8-b6b1-476f-8958-37024c0a3f2d",
   "metadata": {},
   "source": [
    "###### It is impossible to divide a number by 0; thus, instead of receiving an automatic error statement when execution fails, we use a try and except block to tell the error."
   ]
  },
  {
   "cell_type": "markdown",
   "id": "e5ec5adc-94f1-4574-b6b1-d2c90d6442d0",
   "metadata": {},
   "source": [
    "Question 9"
   ]
  },
  {
   "cell_type": "code",
   "execution_count": 36,
   "id": "f14cb05a-1cba-4749-b15b-849bee338690",
   "metadata": {},
   "outputs": [
    {
     "name": "stdout",
     "output_type": "stream",
     "text": [
      "40\n"
     ]
    }
   ],
   "source": [
    "num = 8\n",
    "num *= 5   # num = num * 5\n",
    "print(num)"
   ]
  },
  {
   "cell_type": "markdown",
   "id": "65561488-477d-461c-97cd-1f3879d6e2c0",
   "metadata": {},
   "source": [
    "Question 10"
   ]
  },
  {
   "cell_type": "code",
   "execution_count": 2,
   "id": "8369c217-81d8-4a45-b0d0-64ded99b2633",
   "metadata": {},
   "outputs": [
    {
     "name": "stdout",
     "output_type": "stream",
     "text": [
      "4\n"
     ]
    }
   ],
   "source": [
    "num = 12\n",
    "num += 1   # num = num + 1\n",
    "num += 3   # num = num + 3\n",
    "ans = num % 12   # ans = num % 12\n",
    "print(ans)"
   ]
  },
  {
   "cell_type": "markdown",
   "id": "428b3c5c-1abe-4162-b55e-6340266fa9dc",
   "metadata": {},
   "source": [
    "###### The sum of the variable num is 16, and when we divide it by 12, it gives a remainder of 4. "
   ]
  }
 ],
 "metadata": {
  "kernelspec": {
   "display_name": "Python 3 (ipykernel)",
   "language": "python",
   "name": "python3"
  },
  "language_info": {
   "codemirror_mode": {
    "name": "ipython",
    "version": 3
   },
   "file_extension": ".py",
   "mimetype": "text/x-python",
   "name": "python",
   "nbconvert_exporter": "python",
   "pygments_lexer": "ipython3",
   "version": "3.9.7"
  }
 },
 "nbformat": 4,
 "nbformat_minor": 5
}
