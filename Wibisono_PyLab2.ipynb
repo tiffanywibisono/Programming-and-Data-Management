{
 "cells": [
  {
   "cell_type": "markdown",
   "id": "bfce077e-ffc0-448d-b178-2af10087b65d",
   "metadata": {},
   "source": [
    "##### Python Lab #2\n",
    "##### Tiffany Wibisono"
   ]
  },
  {
   "cell_type": "markdown",
   "id": "3d1d63df-ffff-41a8-81bc-172f104f7d26",
   "metadata": {},
   "source": [
    "Question 1"
   ]
  },
  {
   "cell_type": "code",
   "execution_count": 5,
   "id": "3606662c-470b-43cb-a304-3904420168d8",
   "metadata": {},
   "outputs": [
    {
     "name": "stdout",
     "output_type": "stream",
     "text": [
      "August has 31 days.\n"
     ]
    }
   ],
   "source": [
    "# The result concatenate the string and integer in the variable num.\n",
    "\n",
    "num = 31\n",
    "print(f\"August has {num} days.\")"
   ]
  },
  {
   "cell_type": "markdown",
   "id": "246a8579-78d0-4355-80ef-37bde1a237ac",
   "metadata": {},
   "source": [
    "Question 2"
   ]
  },
  {
   "cell_type": "code",
   "execution_count": 2,
   "id": "c8cd30e8-8a27-439c-b5df-fc6d6e8515d1",
   "metadata": {},
   "outputs": [
    {
     "name": "stdout",
     "output_type": "stream",
     "text": [
      "Thirty days have September, April, June, and November.\n"
     ]
    }
   ],
   "source": [
    "# The result concatenate the string and the variables month1, month2, month3, and month4.\n",
    "\n",
    "month1 = \"September\"\n",
    "month2 = \"April\"\n",
    "month3 = \"June\"\n",
    "month4 = \"November\"\n",
    "statement = print(f\"Thirty days have {month1}, {month2}, {month3}, and {month4}.\")"
   ]
  },
  {
   "cell_type": "markdown",
   "id": "6bc2e22f-65c0-4328-a06a-c0693760dbab",
   "metadata": {},
   "source": [
    "Question 3 "
   ]
  },
  {
   "cell_type": "code",
   "execution_count": 3,
   "id": "2fc4cc6c-8ec7-448e-8f67-6802499e693f",
   "metadata": {},
   "outputs": [
    {
     "name": "stdout",
     "output_type": "stream",
     "text": [
      "31 days\n"
     ]
    }
   ],
   "source": [
    "# If the variable month10 is equal to the string \"October\", the result will print 31 days. \n",
    "# Otherwise, it will print 30 days.\n",
    "\n",
    "month10 = \"October\"\n",
    "\n",
    "if month10 == \"October\":\n",
    "    print(\"31 days\")\n",
    "else:\n",
    "    print(\"30 days\")"
   ]
  },
  {
   "cell_type": "markdown",
   "id": "a48a45a6-e9db-4cab-aaca-f0e1f3e27f97",
   "metadata": {},
   "source": [
    "Question 4"
   ]
  },
  {
   "cell_type": "code",
   "execution_count": 54,
   "id": "60cdc620-7c02-478d-ae77-17f4be56e64f",
   "metadata": {},
   "outputs": [
    {
     "name": "stdout",
     "output_type": "stream",
     "text": [
      "Number is divisible by 5 and 10.\n",
      "Number is divisible by 7 or by 2\n"
     ]
    }
   ],
   "source": [
    "# If the variable num is divisible by 5 or 10, the result prints the statement \"number is divisible by 5 and 10\".\n",
    "# The result also prints the statement \"number is divisible by 7 or by 2\" if the variable num is divisible by 7 \n",
    "# or 2. \n",
    "\n",
    "num = 70\n",
    "\n",
    "if ((num % 5 == 0) and (num % 10 == 0)):\n",
    "    print(\"Number is divisible by 5 and 10.\")\n",
    "if ((num % 7 == 0) or (num % 2 == 0)):\n",
    "    print(\"Number is divisible by 7 or by 2\")"
   ]
  },
  {
   "cell_type": "markdown",
   "id": "99d96c02-3d72-40e6-b805-53a6b1a1c319",
   "metadata": {},
   "source": [
    "Question 5 "
   ]
  },
  {
   "cell_type": "code",
   "execution_count": 3,
   "id": "8a889fcb-db43-4ff4-88b6-4b5dbbb1f03b",
   "metadata": {},
   "outputs": [
    {
     "name": "stdin",
     "output_type": "stream",
     "text": [
      "Enter a number:  8\n"
     ]
    },
    {
     "name": "stdout",
     "output_type": "stream",
     "text": [
      "less than 10.\n"
     ]
    }
   ],
   "source": [
    "# The variable num requires us to input a random number. The result will only print one of the following statements:\n",
    "# if the random number is lesser than 2, it will print \"less than 2\", if the random number is equal to 3 or greater\n",
    "# than 11, or if the random number is greater than 3 or less than or equal to 10, the result will either print \"3 \n",
    "# or greater than 11\" or \"less than 10\". \n",
    "\n",
    "num = int(input(\"Enter a number: \"))\n",
    "\n",
    "if num < 2:\n",
    "    print(\"Less than 2.\")\n",
    "elif num == 3 or num > 11:\n",
    "    print(\"3 or greater than 11.\")\n",
    "elif num > 3 and num <= 10:\n",
    "    print(\"less than 10.\")\n",
    "else:\n",
    "    print(\"Error\")"
   ]
  },
  {
   "cell_type": "markdown",
   "id": "4696c546-0c35-4f08-94d6-455e47c3357e",
   "metadata": {},
   "source": [
    "Question 6"
   ]
  },
  {
   "cell_type": "code",
   "execution_count": 4,
   "id": "5ccdd905-46a4-4341-99e2-97c892c5fbbc",
   "metadata": {},
   "outputs": [
    {
     "name": "stdin",
     "output_type": "stream",
     "text": [
      "Enter a sentence:  This is it\n"
     ]
    },
    {
     "name": "stdout",
     "output_type": "stream",
     "text": [
      "THIS IS IT!!\n",
      "this is it - all lower\n",
      "This is it - Proper\n"
     ]
    }
   ],
   "source": [
    "# The variable sent requires us to input a sentence, and the result will print out three statements based on the \n",
    "# variable. The first sentence print all the statement in upper case, the second sentence print all the statement \n",
    "# in lower case, and the thrid statement prints the proper way of writing a sentence where only the first letter\n",
    "# of the sentence is capitalized and the remaining is in lower case. \n",
    "\n",
    "sent = input(\"Enter a sentence: \")\n",
    "\n",
    "print(f\"{sent}!!\".upper())\n",
    "print(f\"{sent} - all lower\".lower())\n",
    "print(f\"{sent} - Proper\")"
   ]
  },
  {
   "cell_type": "markdown",
   "id": "242fe0c0-96ab-40c2-ade5-0329f064611a",
   "metadata": {},
   "source": [
    "Question 7"
   ]
  },
  {
   "cell_type": "code",
   "execution_count": 6,
   "id": "d4ed2b18-005a-48df-8413-46c2a13a4218",
   "metadata": {},
   "outputs": [
    {
     "name": "stdin",
     "output_type": "stream",
     "text": [
      "What is your name? Wade\n",
      "Which year were you born? 1979\n"
     ]
    },
    {
     "name": "stdout",
     "output_type": "stream",
     "text": [
      "Wade is 43 years old.\n"
     ]
    }
   ],
   "source": [
    "# The variable name and year require us to print a name and the year someone was born. The age variable counts the \n",
    "# current age by substracting the the current year by the year someone was born. Then, the result prints the string\n",
    "# by concatenating the varaibles name, year, and age. \n",
    "\n",
    "name = input(\"What is your name?\")\n",
    "year = input(\"Which year were you born?\")\n",
    "age = (2022 - int(year))\n",
    "\n",
    "print(f\"{name} is {age} years old.\")"
   ]
  },
  {
   "cell_type": "markdown",
   "id": "a8573ef9-0772-43e0-9d1d-2eff55e64d92",
   "metadata": {},
   "source": [
    "Question 8"
   ]
  },
  {
   "cell_type": "code",
   "execution_count": 16,
   "id": "7c079bf4-d641-446b-adfb-aa4f089e77c8",
   "metadata": {},
   "outputs": [
    {
     "name": "stdin",
     "output_type": "stream",
     "text": [
      "What is your gender? female\n",
      "What is your age? 19\n"
     ]
    },
    {
     "name": "stdout",
     "output_type": "stream",
     "text": [
      "female\n",
      "You are an adult.\n"
     ]
    }
   ],
   "source": [
    "# The variable gender requires me to input my gender, and the variable age requires me to input my age. if the \n",
    "# gender is female or male, the result will print either of the following statements: if my age is between 1 and \n",
    "# 17, the result will print \"you are underage\", if my age is between 18 and 66, the result will print \"you are an \n",
    "# adult\", or if my age is greater or equal to 67, the result will print \"you are a senior\". \n",
    "\n",
    "gender = input(\"What is your gender?\")\n",
    "age = int(input(\"What is your age?\"))\n",
    "\n",
    "if gender == \"female\":\n",
    "    print(\"female\")\n",
    "    if age < 18 and age > 0:\n",
    "        print(\"You are underage.\")\n",
    "    elif age >= 18 and age < 67:\n",
    "        print(\"You are an adult.\")\n",
    "    elif age >= 67:\n",
    "        print(\"You are a senior.\")\n",
    "    else:\n",
    "        print(\"Error: You have entered a negative number or 0.\")\n",
    "elif gender == \"male\":\n",
    "    print(\"male\")\n",
    "    if age < 18 and age > 0:\n",
    "        print(\"You are underage.\")\n",
    "    elif age >= 18 and age < 67:\n",
    "        print(\"You are an adult.\")\n",
    "    elif age >= 67:\n",
    "        print(\"You are a senior.\")\n",
    "    else:\n",
    "        print(\"Error: You have entered a negative number or 0.\")    \n",
    "else:\n",
    "    print(\"Error: You have entered an invalid gender.\")"
   ]
  },
  {
   "cell_type": "code",
   "execution_count": null,
   "id": "dff4f578-7f77-4ecb-b251-64b12fb7a0d6",
   "metadata": {},
   "outputs": [],
   "source": []
  }
 ],
 "metadata": {
  "kernelspec": {
   "display_name": "Python 3 (ipykernel)",
   "language": "python",
   "name": "python3"
  },
  "language_info": {
   "codemirror_mode": {
    "name": "ipython",
    "version": 3
   },
   "file_extension": ".py",
   "mimetype": "text/x-python",
   "name": "python",
   "nbconvert_exporter": "python",
   "pygments_lexer": "ipython3",
   "version": "3.9.7"
  }
 },
 "nbformat": 4,
 "nbformat_minor": 5
}
