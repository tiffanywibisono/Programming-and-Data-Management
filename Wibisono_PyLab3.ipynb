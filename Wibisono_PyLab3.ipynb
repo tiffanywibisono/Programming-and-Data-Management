{
 "cells": [
  {
   "cell_type": "markdown",
   "id": "1e431006-d580-4885-a3a5-e6bd5cbb9414",
   "metadata": {},
   "source": [
    "##### Python lab #3\n",
    "##### Tiffany Wibisono"
   ]
  },
  {
   "cell_type": "markdown",
   "id": "a9cece14-2aa0-4198-9446-4425911c3193",
   "metadata": {},
   "source": [
    "Question 1"
   ]
  },
  {
   "cell_type": "code",
   "execution_count": 1,
   "id": "5dabedb6-dbd7-4489-9cbf-26e8c71293b7",
   "metadata": {},
   "outputs": [
    {
     "name": "stdout",
     "output_type": "stream",
     "text": [
      "1\n",
      "2\n",
      "3\n",
      "4\n",
      "5\n",
      "6\n",
      "7\n",
      "8\n",
      "9\n",
      "10\n"
     ]
    }
   ],
   "source": [
    "# The result prints a for loop from number 1 to 10. \n",
    "\n",
    "for x in range(1, 11):\n",
    "    print(x)"
   ]
  },
  {
   "cell_type": "markdown",
   "id": "bc2d26f5-3dbf-4af1-9706-da8fc2064429",
   "metadata": {},
   "source": [
    "Question 2"
   ]
  },
  {
   "cell_type": "code",
   "execution_count": 2,
   "id": "2c420ef9-c212-470d-9fac-1a518e8c4a28",
   "metadata": {},
   "outputs": [
    {
     "name": "stdout",
     "output_type": "stream",
     "text": [
      "6\n",
      "9\n",
      "12\n",
      "15\n",
      "18\n"
     ]
    }
   ],
   "source": [
    "# The result shows a for loop from number 6 to 20, but it only prints the result by incrementing\n",
    "# the loop by 2.\n",
    "for x in range(6, 21, 3):\n",
    "    print(x)"
   ]
  },
  {
   "cell_type": "markdown",
   "id": "29880de4-9a74-40fc-8e0b-3a97fe883812",
   "metadata": {},
   "source": [
    "Question 3 ? if or elif?"
   ]
  },
  {
   "cell_type": "code",
   "execution_count": 61,
   "id": "30420db0-7aea-4361-a58b-5b23919ffef0",
   "metadata": {},
   "outputs": [
    {
     "name": "stdout",
     "output_type": "stream",
     "text": [
      "Set:1\n",
      "Set:2\n",
      "Student1\n",
      "Student2\n",
      "Student3\n",
      "Student4\n",
      "Student5\n",
      "Set:3\n",
      "Set:4\n",
      "Student1\n",
      "Student2\n",
      "Student3\n",
      "Student4\n",
      "Student5\n",
      "Set:5\n"
     ]
    }
   ],
   "source": [
    "# The result only prints the student number when the code loops to a set number that is divisible by 2; otherwise,\n",
    "# no student number is listed when the code loops to an odd set number. \n",
    "\n",
    "for x in range(1, 6):\n",
    "    if x % 2 == 1:\n",
    "        print(f\"Set:{x}\")\n",
    "    elif x % 2 == 0:\n",
    "        print(f\"Set:{x}\")\n",
    "        for num in range(1, 6):\n",
    "            print(f\"Student{num}\")\n",
    "            "
   ]
  },
  {
   "cell_type": "markdown",
   "id": "f127dde9-0584-48a1-a391-892c49eca6c7",
   "metadata": {},
   "source": [
    "Question 4"
   ]
  },
  {
   "cell_type": "code",
   "execution_count": 15,
   "id": "505b6dd1-c103-45f0-a059-5136c4b9ee8b",
   "metadata": {},
   "outputs": [
    {
     "name": "stdout",
     "output_type": "stream",
     "text": [
      "3\n",
      "6\n",
      "9\n"
     ]
    }
   ],
   "source": [
    "# The result shows a while loop from number 1 to 10, but it only prints the result if the number within the range\n",
    "# is divisible by 3. \n",
    "\n",
    "x = 1\n",
    "\n",
    "while x <= 10:\n",
    "    x += 1\n",
    "    if x % 3 == 0:\n",
    "        print(x)"
   ]
  },
  {
   "cell_type": "markdown",
   "id": "ac389dd5-212c-406c-8720-becec6f62007",
   "metadata": {},
   "source": [
    "Question 5"
   ]
  },
  {
   "cell_type": "code",
   "execution_count": 6,
   "id": "c50e1b38-379b-4cf7-b6e3-df2158812a6c",
   "metadata": {},
   "outputs": [
    {
     "name": "stdout",
     "output_type": "stream",
     "text": [
      "99.5 97.0 94.5 92.0 89.5 87.0 84.5 82.0 79.5 77.0 74.5 72.0 69.5 67.0 64.5 62.0 59.5 57.0 54.5 52.0 49.5 47.0 44.5 42.0 39.5 37.0 34.5 32.0 29.5 27.0 24.5 22.0 19.5 17.0 14.5 12.0 9.5 7.0 4.5 2.0 -0.5 -3.0 -5.5 -8.0 -10.5 -13.0 -15.5 -18.0 -20.5 -23.0 -25.5 -28.0 -30.5 -33.0 -35.5 -38.0 -40.5 -43.0 -45.5 -48.0 -50.5 -53.0 -55.5 -58.0 -60.5 -63.0 -65.5 -68.0 -70.5 -73.0 -75.5 -78.0 -80.5 -83.0 -85.5 -88.0 -90.5 -93.0 -95.5 -98.0 -100.5 -103.0 -105.5 -108.0 -110.5 -113.0 -115.5 -118.0 -120.5 -123.0 -125.5 -128.0 -130.5 -133.0 -135.5 -138.0 -140.5 -143.0 -145.5 -148.0 "
     ]
    }
   ],
   "source": [
    "# The result displays a for loop that is printed side by side within the range 0 and 100 that increments by 0.5,\n",
    "# but only when the the variable x is less than 10.\n",
    "\n",
    "x = 2\n",
    "y = 100\n",
    "for i in range (0, 100):\n",
    "    y -= (x/4)\n",
    "    while x < 10:\n",
    "        x += 1\n",
    "    print(y, end=' ')\n",
    "    "
   ]
  },
  {
   "cell_type": "markdown",
   "id": "b6eb9c7c-d2fd-4409-bdfa-32e88d446fe6",
   "metadata": {},
   "source": [
    "Question 6"
   ]
  },
  {
   "cell_type": "code",
   "execution_count": 56,
   "id": "e1afde9d-a2d4-4fe8-81e5-8f025425a502",
   "metadata": {},
   "outputs": [
    {
     "name": "stdout",
     "output_type": "stream",
     "text": [
      "880\n"
     ]
    }
   ],
   "source": [
    "# I created a function doCalc by inserting these three parameters: num1, num2, num3. Then, the variable 'equation'\n",
    "# holds the formula of the given parameter. To calculate the equation using the function, I printed the variable\n",
    "#'equation' and pass in the arguement 10, 12, and 40 to doCalc function. \n",
    "\n",
    "def doCalc(num1, num2, num3):\n",
    "    equation = (num1 + num2) * num3\n",
    "    print(equation)\n",
    "    \n",
    "doCalc(10, 12, 40) "
   ]
  },
  {
   "cell_type": "markdown",
   "id": "4b6094ab-7486-40d9-9e93-eefaf0e834db",
   "metadata": {},
   "source": [
    "Question 7"
   ]
  },
  {
   "cell_type": "code",
   "execution_count": 54,
   "id": "af6bc3a9-2119-4243-ae15-9b982eddb063",
   "metadata": {},
   "outputs": [
    {
     "name": "stdout",
     "output_type": "stream",
     "text": [
      "Wade is taking 4 courses and each course is 3 credits for a total of 12.\n",
      "Jane is taking 5 courses and each course is 3 credits for a total of 15.\n",
      "Evan is taking 3 courses and each course is 5 credits for a total of 15.\n"
     ]
    }
   ],
   "source": [
    "# I created a function creditsPerQuarter by inserting the following parameter: student, numCreds, numCourses. Then,\n",
    "# I created the variable 'statement' to concatenate string with the given function. To calculate the total number\n",
    "# of credits, I multiply numCreds by numCourses. Afterwards, I call the function three times with three different\n",
    "# arugements. \n",
    "\n",
    "def creditsPerQuarter(student, numCreds, numCourses):\n",
    "    statement = (f\"{student} is taking {numCourses} courses and each course is {numCreds} credits for a total of {numCreds * numCourses}.\")\n",
    "    print(statement)\n",
    "    \n",
    "creditsPerQuarter(\"Wade\", 3, 4)\n",
    "creditsPerQuarter(\"Jane\", 3, 5)\n",
    "creditsPerQuarter(\"Evan\", 5, 3)\n"
   ]
  },
  {
   "cell_type": "markdown",
   "id": "783e1fe2-9ee7-4004-94fb-9efc36529299",
   "metadata": {},
   "source": [
    "Question 8"
   ]
  },
  {
   "cell_type": "code",
   "execution_count": 1,
   "id": "0c53e584-c04c-47e1-837f-478aa4b1e7d6",
   "metadata": {},
   "outputs": [
    {
     "name": "stdout",
     "output_type": "stream",
     "text": [
      "1\n",
      "8\n"
     ]
    }
   ],
   "source": [
    "# The result will give a random number within the range of 1 to 10. The function getRands passes the arguement 10,\n",
    "# and the result only prints random number if the integer in the range random.randint(1, ceiling) is less than 3.\n",
    "\n",
    "import random\n",
    "\n",
    "def getRands(ceiling):\n",
    "    for x in range (1, 11):\n",
    "        if random.randint(1, ceiling) < 3:\n",
    "            print(random.randint(1, ceiling))\n",
    "            \n",
    "getRands(10)"
   ]
  },
  {
   "cell_type": "code",
   "execution_count": null,
   "id": "79469b7e-ff31-4c44-bbe3-f6154155036d",
   "metadata": {},
   "outputs": [],
   "source": []
  }
 ],
 "metadata": {
  "kernelspec": {
   "display_name": "Python 3 (ipykernel)",
   "language": "python",
   "name": "python3"
  },
  "language_info": {
   "codemirror_mode": {
    "name": "ipython",
    "version": 3
   },
   "file_extension": ".py",
   "mimetype": "text/x-python",
   "name": "python",
   "nbconvert_exporter": "python",
   "pygments_lexer": "ipython3",
   "version": "3.9.7"
  }
 },
 "nbformat": 4,
 "nbformat_minor": 5
}
