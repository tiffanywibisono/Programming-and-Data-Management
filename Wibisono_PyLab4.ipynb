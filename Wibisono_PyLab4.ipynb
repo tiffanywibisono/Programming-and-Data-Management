{
 "cells": [
  {
   "cell_type": "markdown",
   "id": "81156767-34b9-4f46-bf20-77471109bd7a",
   "metadata": {},
   "source": [
    "##### Python Lab #4\n",
    "##### Tiffany Wibisono"
   ]
  },
  {
   "cell_type": "markdown",
   "id": "cc70044a-75c8-4cd9-89a9-dd291900e75d",
   "metadata": {},
   "source": [
    "Question 1"
   ]
  },
  {
   "cell_type": "code",
   "execution_count": 7,
   "id": "e782b5a1-c7a7-4630-90f4-f8280371d28f",
   "metadata": {},
   "outputs": [
    {
     "name": "stdout",
     "output_type": "stream",
     "text": [
      "x\n",
      "!\n"
     ]
    }
   ],
   "source": [
    "# I printed the string in the first and ninth index of the variable in two separate lines. \n",
    "\n",
    "y = \"Excelsior!\"\n",
    "print(y[1])\n",
    "print(y[9])"
   ]
  },
  {
   "cell_type": "markdown",
   "id": "b760ce7f-5b66-4149-b1ba-79c96544a94a",
   "metadata": {},
   "source": [
    "Question 2"
   ]
  },
  {
   "cell_type": "code",
   "execution_count": 2,
   "id": "914e6b32-41e1-4eb2-b2b5-9831565084f0",
   "metadata": {},
   "outputs": [
    {
     "name": "stdout",
     "output_type": "stream",
     "text": [
      "Avengers Assemble!\n"
     ]
    }
   ],
   "source": [
    "# I created a variable called \"aa\".\n",
    "# Then, I used for loop to print the variable and added  'end=\"\" ' to ensure that the letters are printed next\n",
    "# to each other.\n",
    "# Outside of the loop, an exclaimation mark is printed right next to the last letter of the phrase. \n",
    "\n",
    "aa = \"Avengers Assemble\"\n",
    "for phrase in aa:\n",
    "    print(phrase, end=\"\")\n",
    "print(\"!\")\n",
    "    "
   ]
  },
  {
   "cell_type": "markdown",
   "id": "353d4148-f3fc-4d43-af97-65366d883816",
   "metadata": {},
   "source": [
    "Question 3 "
   ]
  },
  {
   "cell_type": "code",
   "execution_count": 4,
   "id": "8db4ee3d-6ca7-445e-b3ac-b6bfabb7a2b8",
   "metadata": {},
   "outputs": [
    {
     "name": "stdout",
     "output_type": "stream",
     "text": [
      "Hog\n",
      "warts\n",
      "s\n"
     ]
    }
   ],
   "source": [
    "# I created the variable called \"school\".\n",
    "# The second variable called \"first\" is created to slice the first three letters from the variable \"school\".\n",
    "# The third variable called \"second\" is created to slice the remaining letters that are not printed in the second\n",
    "# variable. \n",
    "# To print the last letter of the variable \"school\", I counted the index backwards, so the index number is negative.\n",
    "\n",
    "school = \"Hogwarts\"\n",
    "\n",
    "first = school[0:3]\n",
    "second = school[3:]\n",
    "\n",
    "print(first)\n",
    "print(second)\n",
    "print(school[-1])\n",
    "\n"
   ]
  },
  {
   "cell_type": "markdown",
   "id": "3c0524ea-b971-4f0d-8730-6dbc22722517",
   "metadata": {},
   "source": [
    "Question 4 "
   ]
  },
  {
   "cell_type": "code",
   "execution_count": 6,
   "id": "8c7bd54b-58ff-49eb-8b56-e4ff65f9d99a",
   "metadata": {},
   "outputs": [
    {
     "name": "stdout",
     "output_type": "stream",
     "text": [
      "['Washington', 'Oregon', 'California', 'Idaho']\n",
      "4\n"
     ]
    }
   ],
   "source": [
    "# I created a list called \"states\".\n",
    "# In the list, I replaced Nevada with Idaho by using index, and printed it.\n",
    "# I also printed the length of the variable by using the len function.\n",
    "\n",
    "states = [\"Washington\", \"Oregon\", \"California\", \"Nevada\"]\n",
    "\n",
    "states[3] = \"Idaho\"\n",
    "print(states)\n",
    "print(len(states))"
   ]
  },
  {
   "cell_type": "markdown",
   "id": "d9effea4-a9d3-4a94-9665-2acd779c3941",
   "metadata": {},
   "source": [
    "Question 5 "
   ]
  },
  {
   "cell_type": "code",
   "execution_count": 76,
   "id": "ee1a3ebd-103f-4893-9194-26007d2d17a0",
   "metadata": {},
   "outputs": [
    {
     "name": "stdout",
     "output_type": "stream",
     "text": [
      "Leslie is a character on Parks and Rec.\n",
      "Tom is a character on Parks and Rec.\n",
      "Ron is a character on Parks and Rec.\n"
     ]
    }
   ],
   "source": [
    "# I created a list called \"chars\".\n",
    "# Then, I used a for loop to print a string. \n",
    "# The loop iterates over the list three times.\n",
    "\n",
    "chars = [\"Leslie\", \"Tom\", \"Ron\"]\n",
    "\n",
    "for x in chars:\n",
    "    print(f\"{x} is a character on Parks and Rec.\")"
   ]
  },
  {
   "cell_type": "markdown",
   "id": "5ceed08c-b57e-4b02-8c21-586bee0f1725",
   "metadata": {},
   "source": [
    "Question 6 ??"
   ]
  },
  {
   "cell_type": "code",
   "execution_count": 9,
   "id": "9e9dc3a8-7610-4495-a569-7b4cee15bdac",
   "metadata": {},
   "outputs": [
    {
     "name": "stdout",
     "output_type": "stream",
     "text": [
      "6\n",
      "3\n",
      "9\n",
      "3\n",
      "6\n",
      "6\n"
     ]
    }
   ],
   "source": [
    "# I created the list called \"randNums\" to print 10 random numbers within the range 1 and 10.\n",
    "# For loops is used to append the random numbers to the list.\n",
    "# While loop is used to print out values from the list that are divisble by 3. \n",
    "\n",
    "import random \n",
    "\n",
    "randNums = []\n",
    "for x in range(10):\n",
    "    randNums.append(random.randint(1,11))\n",
    "    \n",
    "n = 0\n",
    "while (n < len(randNums)):\n",
    "    for x in randNums:\n",
    "        if x % 3 == 0:\n",
    "            print(x)\n",
    "        n += 1\n",
    "        "
   ]
  },
  {
   "cell_type": "markdown",
   "id": "0f713e3e-c944-42fa-8399-3fe63c6b65b5",
   "metadata": {},
   "source": [
    "Question 7"
   ]
  },
  {
   "cell_type": "code",
   "execution_count": 74,
   "id": "dd9daf1e-b590-4db4-bf88-a8b3abf75cb3",
   "metadata": {},
   "outputs": [
    {
     "name": "stdout",
     "output_type": "stream",
     "text": [
      "['New Years Day', 'Easter', 'Fourth of July', 'Halloween', 'Thanksgiving', 'Christmas']\n"
     ]
    }
   ],
   "source": [
    "# A function called \"holist\" is created to print two lists.\n",
    "# The variable \"holidays\" concatenate list1 and list2.\n",
    "# The variable \"newHolidays\" is created to hold the list in the \"holidays\" variable , except for \"Black Friday\".\n",
    "# For loop and conditional statement \"if\" is used to append the list in \"holidays\" variable to \"newHolidays\" \n",
    "# variable.\n",
    "\n",
    "def holList(list1, list2):\n",
    "    holidays = [*list1, *list2]\n",
    "    newHolidays = []\n",
    "    for x in holidays:\n",
    "        if x != \"Black Friday\":\n",
    "            newHolidays.append(x)\n",
    "    print(newHolidays)\n",
    "\n",
    "list1 = [\"New Years Day\", \"Easter\", \"Fourth of July\"]    \n",
    "list2 = [\"Halloween\", \"Thanksgiving\", \"Black Friday\", \"Christmas\"]\n",
    "\n",
    "holList(list1, list2)"
   ]
  },
  {
   "cell_type": "markdown",
   "id": "ac3cb4ab-cf9b-4bf3-838a-337823ca1c90",
   "metadata": {},
   "source": [
    "Question 8"
   ]
  },
  {
   "cell_type": "code",
   "execution_count": 61,
   "id": "3fc4c93b-4ed5-493a-8c3e-96b330b72c1c",
   "metadata": {},
   "outputs": [
    {
     "name": "stdout",
     "output_type": "stream",
     "text": [
      "['New York', 'Boise', 'Los Angeles', 'Miami', 'Houston']\n"
     ]
    }
   ],
   "source": [
    "# I created a list called \"cities\" to hold two of the following city names.\n",
    "# I use append to insert 2 new cities at the end of the original list.\n",
    "# I use insert to add 2 new city names at index 0 and 2 of the list.\n",
    "# I use del to delete the unnwanted city from a specific position of the list.\n",
    "\n",
    "cities = [\"New York\", \"Los Angeles\"]\n",
    "\n",
    "cities.append(\"Miami\")\n",
    "cities.append(\"Houston\")\n",
    "cities.insert(0, \"Seattle\")\n",
    "cities.insert(2, \"Boise\")\n",
    "del cities[0:1]\n",
    "print(cities)\n",
    "\n"
   ]
  },
  {
   "cell_type": "markdown",
   "id": "5ba807e6-05d6-4e33-942e-27eefc19a6aa",
   "metadata": {},
   "source": [
    "Question 9"
   ]
  },
  {
   "cell_type": "code",
   "execution_count": 2,
   "id": "ef101528-b19c-41ef-bde6-d5854e77ec27",
   "metadata": {},
   "outputs": [
    {
     "name": "stdout",
     "output_type": "stream",
     "text": [
      "January has 31 days.\n",
      "February has 28 days.\n",
      "March has 31 days.\n",
      "April has 30 days.\n",
      "May has 31 days.\n",
      "June has 30 days.\n"
     ]
    }
   ],
   "source": [
    "# I created a nested list called \"months\".\n",
    "# Each nested list contain the month and the number of days each month has.\n",
    "# Then, I used a for loop with range and len function to print a string. \n",
    "# The loop iterates over the nested list six times. \n",
    "\n",
    "months = [[\"January\", 31],[\"February\", 28], [\"March\", 31], [\"April\", 30], [\"May\", 31], [\"June\", 30]]\n",
    "\n",
    "for m in range(0, len(months)):\n",
    "    print(f\"{months[m][0]} has {months[m][1]} days.\")\n",
    "    \n",
    "    \n"
   ]
  },
  {
   "cell_type": "markdown",
   "id": "927b7a2a-ea19-42e6-8086-02b6de197030",
   "metadata": {},
   "source": [
    "Question 10"
   ]
  },
  {
   "cell_type": "code",
   "execution_count": 34,
   "id": "1014d75f-3546-4fab-a4ef-c2466d9e40c5",
   "metadata": {},
   "outputs": [
    {
     "name": "stdout",
     "output_type": "stream",
     "text": [
      "{'Breed': 'Corgi', 'Age Exp.': 13, 'Type': 'Cattle herding'}\n",
      "Corgi\n",
      "The Corgi is expected to live about 13 years.\n"
     ]
    }
   ],
   "source": [
    "# I created and printed the a dictionary called \"dog\".\n",
    "# I also printed out the \"Breed\" key from the \"dog\" dictionary.\n",
    "# A string is also printed using the values from the dicitonary.\n",
    "\n",
    "dog = {\"Breed\": \"Corgi\", \"Age Exp.\": 13, \"Type\": \"Cattle herding\"}\n",
    "print(dog)\n",
    "\n",
    "breedKey = dog[\"Breed\"]\n",
    "print(breedKey)\n",
    "\n",
    "print(f\"The\" + \" \" + dog[\"Breed\"] + \" \" + \"is expected to live about\" + \" \" + str(dog[\"Age Exp.\"]) + \" \" + \"years.\")\n",
    "       "
   ]
  },
  {
   "cell_type": "markdown",
   "id": "ae66a199-f145-43d2-9972-72cba0cf0bba",
   "metadata": {},
   "source": [
    "Question 11"
   ]
  },
  {
   "cell_type": "code",
   "execution_count": 32,
   "id": "8d603d28-44ba-464e-9e94-868b24684afc",
   "metadata": {},
   "outputs": [
    {
     "name": "stdout",
     "output_type": "stream",
     "text": [
      "Jeff: 79\n",
      "Chris: 59\n",
      "Michelle: 99\n",
      "Joel: 78\n"
     ]
    }
   ],
   "source": [
    "# I created a dictionary called \"scores\" where the key is the name of a persson and the value is the score earned\n",
    "# by the person.\n",
    "# The first function created is used to change the score earned by the person, and to add another data to the \n",
    "# dictionary.\n",
    "# The second function is to delete data from the dictionary.\n",
    "# For loop is used to print the items in the dictionary, and the loop iterates four times. \n",
    "\n",
    "scores = {\"Jeff\": 90, \"Chris\": 59, \"Hannah\": 88, \"Michelle\": 99}\n",
    "\n",
    "def addChangeScore(name, score):\n",
    "    scores[name] = score\n",
    "        \n",
    "def delScore(name):\n",
    "    del scores[name]\n",
    "\n",
    "    \n",
    "addChangeScore(\"Joel\", 78)\n",
    "addChangeScore(\"Jeff\", 79)\n",
    "delScore(\"Hannah\")\n",
    "    \n",
    "for k, v in scores.items():\n",
    "    print(f\"{k}: {v}\")\n",
    "\n",
    "    \n",
    "    \n",
    "\n"
   ]
  },
  {
   "cell_type": "markdown",
   "id": "00203297-fdb8-4dad-ac6f-8f4a3d7d5922",
   "metadata": {},
   "source": [
    "Question 12 "
   ]
  },
  {
   "cell_type": "code",
   "execution_count": 89,
   "id": "a8458c79-f2d7-4e63-839e-8613a912b8d9",
   "metadata": {},
   "outputs": [
    {
     "name": "stdout",
     "output_type": "stream",
     "text": [
      "{'Jasper': 23, 'Sam': 28, 'Meredith': 20, 'Chris': 30}\n"
     ]
    }
   ],
   "source": [
    "# I created two lists called \"names\" and \"ages\".\n",
    "# An empty dictionary called \"emptyDict\" is created to join the two lists. \n",
    "# The \"names\" represents the key and the \"ages\" represents the value.\n",
    "# Then, I used for loops to print the lists into the empty dictionary.\n",
    "\n",
    "names = [\"Jasper\", \"Sam\", \"Meredith\", \"Chris\"]\n",
    "ages = [23, 28, 20, 30]\n",
    "\n",
    "emptyDict = dict()\n",
    "\n",
    "for key in names:\n",
    "    for value in ages:\n",
    "        emptyDict[key] = value\n",
    "        ages.remove(value)\n",
    "        break\n",
    "print(emptyDict)"
   ]
  },
  {
   "cell_type": "markdown",
   "id": "708bad52-d41b-4235-94a0-f621504bb6b1",
   "metadata": {},
   "source": [
    "Question 13"
   ]
  },
  {
   "cell_type": "code",
   "execution_count": 5,
   "id": "89b5bc08-ebef-4db1-b8cc-67d3ab33edf3",
   "metadata": {},
   "outputs": [
    {
     "name": "stdout",
     "output_type": "stream",
     "text": [
      "Jeff passed the test.\n",
      "Chris did not pass the test.\n",
      "Hannah passed the test.\n",
      "Michelle passed the test.\n"
     ]
    }
   ],
   "source": [
    "# I created a dictionary called scores.\n",
    "# Then, I used  for loop to print the items in the dictionary four times. \n",
    "# If the value in the dictionary is above 60, I print a statement stating the person (key) passed the test.\n",
    "# Otherwise, I print a statement state the person (key) did not pass the test.\n",
    "\n",
    "scores = {\"Jeff\": 90, \"Chris\": 59, \"Hannah\": 88, \"Michelle\": 99}\n",
    "\n",
    "for k, v in scores.items():\n",
    "    if v > 60:\n",
    "        print(f\"{k} passed the test.\")\n",
    "    else:\n",
    "        print(f\"{k} did not pass the test.\")"
   ]
  }
 ],
 "metadata": {
  "kernelspec": {
   "display_name": "Python 3 (ipykernel)",
   "language": "python",
   "name": "python3"
  },
  "language_info": {
   "codemirror_mode": {
    "name": "ipython",
    "version": 3
   },
   "file_extension": ".py",
   "mimetype": "text/x-python",
   "name": "python",
   "nbconvert_exporter": "python",
   "pygments_lexer": "ipython3",
   "version": "3.9.7"
  }
 },
 "nbformat": 4,
 "nbformat_minor": 5
}
