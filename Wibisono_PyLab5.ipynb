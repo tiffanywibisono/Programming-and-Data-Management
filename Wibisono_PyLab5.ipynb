{
 "cells": [
  {
   "cell_type": "markdown",
   "id": "bb710bd9-9bef-4673-a204-c7d1ad6e2852",
   "metadata": {},
   "source": [
    "##### Python Lab #5\n",
    "##### Tiffany Wibisono"
   ]
  },
  {
   "cell_type": "markdown",
   "id": "d1ff8135-c2d8-45de-ba5f-7f9f62802bd3",
   "metadata": {},
   "source": [
    "Question 1"
   ]
  },
  {
   "cell_type": "code",
   "execution_count": 5,
   "id": "15098c7d-35c1-440e-bb93-95146d191965",
   "metadata": {},
   "outputs": [
    {
     "name": "stdout",
     "output_type": "stream",
     "text": [
      "When things go wrong, as they sometimes will,\n",
      "\n"
     ]
    }
   ],
   "source": [
    "# Using readline function, I printed the first line of the text by opening \"DontQuit.txt\" file.\n",
    "\n",
    "with open(\"DataLab/DontQuit.txt\", \"r\") as reader:\n",
    "    print(reader.readline())"
   ]
  },
  {
   "cell_type": "markdown",
   "id": "da698b6d-6d4b-4ae0-b60f-893857f2f9cc",
   "metadata": {},
   "source": [
    "Question 2"
   ]
  },
  {
   "cell_type": "code",
   "execution_count": 1,
   "id": "59004ce8-f01f-4597-904a-32f8f30510ad",
   "metadata": {},
   "outputs": [
    {
     "name": "stdout",
     "output_type": "stream",
     "text": [
      "When things go wrong, as they sometimes will,\n",
      "When the road youre trudging seems all uphill,\n",
      "When the funds are low but the debts are high,\n",
      "And you want to smile but you have to sigh,\n",
      "When care is pressing you down a bit...\n",
      "Rest if you must, but don't you quit!\n",
      "\n",
      "Life is queer with its twists and turns,\n",
      "As every one of us sometimes learns,\n",
      "And many failures turn about\n",
      "When we might have won had we stuck it out.\n",
      "Don't give up though the pace seems slow...\n",
      "You may succeed with another blow.\n",
      "\n",
      "Often the struggler has given up\n",
      "When he might have captured the victors cup;\n",
      "And he learned too late when the night came down,\n",
      "How close he was to the golden crown.\n",
      "\n",
      "Success is failure turned inside out...\n",
      "And you can never tell how close you are\n",
      "It may be near when it seems so far.\n",
      "So stick to the fight when youâ€™re hardest hit\n",
      "Itâ€™s when things seem worst that you must not quit."
     ]
    }
   ],
   "source": [
    "# Using readline function and while loop, I printed out all the text line by line by opening \"DontQuit.txt\" file.\n",
    "\n",
    "with open(\"DataLab/DontQuit.txt\", \"r\") as reader:\n",
    "    line = (reader.readline())\n",
    "    \n",
    "    while line != '':\n",
    "        print(line, end='')\n",
    "        line = (reader.readline())\n",
    "        "
   ]
  },
  {
   "cell_type": "markdown",
   "id": "f1082fcf-a0e3-415b-9ce4-49108d0a0ce7",
   "metadata": {},
   "source": [
    "Question 3"
   ]
  },
  {
   "cell_type": "code",
   "execution_count": 11,
   "id": "81c07191-d78d-4c4f-81e2-5d5eb5f11580",
   "metadata": {},
   "outputs": [
    {
     "name": "stdout",
     "output_type": "stream",
     "text": [
      "Life is queer with its twists and turns,\n"
     ]
    }
   ],
   "source": [
    "# Using for readline function and for loop, I printed all the text line by line by opening \"DontQuit.txt\" file, but \n",
    "# only lines that contain the word \"life\". \n",
    "\n",
    "with open(\"DataLab/DontQuit.txt\", \"r\") as reader:\n",
    "    line = (reader.readline())\n",
    "    word = 'Life'\n",
    "    \n",
    "    for line in reader:\n",
    "        if word in line.split(' '):\n",
    "            print(line, end='')\n",
    "        "
   ]
  },
  {
   "cell_type": "markdown",
   "id": "4cc1ea29-02db-4b6e-95cf-361238ccf28e",
   "metadata": {},
   "source": [
    "Question 4"
   ]
  },
  {
   "cell_type": "code",
   "execution_count": 21,
   "id": "9a3f6569-1512-407d-9de9-95171d510eae",
   "metadata": {},
   "outputs": [
    {
     "name": "stdout",
     "output_type": "stream",
     "text": [
      "My very excited mother just served us nine pies.\n",
      "\n",
      "Please excuse my dear Aunt Sally.\n",
      "\n",
      "Roy G Biv.\n",
      "\n"
     ]
    }
   ],
   "source": [
    "# Two strings are listed inside a list called \"list\".\n",
    "# I opened the file \"famousSayings.txt\" and used the \"w+\" mode to write out strings I wanted to be displayed\n",
    "# inside the text file. The function writelines is used to write these sentences.\n",
    "# Then, I used \"r\" mode to read and print the text in the file. For loop is used in this step. \n",
    "\n",
    "list = [\"Please excuse my dear Aunt Sally.\\n\", \"Roy G Biv.\\n\"]\n",
    "\n",
    "with open(\"DataLab/famousSayings.txt\", \"w+\") as writer:\n",
    "    writer.writelines(\"My very excited mother just served us nine pies.\\n\")\n",
    "    writer.writelines(list)\n",
    "\n",
    "with open(\"DataLab/famousSayings.txt\", \"r\") as reader:\n",
    "    for x in reader:\n",
    "        print(x)\n",
    "    \n",
    "    "
   ]
  },
  {
   "cell_type": "markdown",
   "id": "8765ca9c-545e-4973-b62f-c9cb8d45701b",
   "metadata": {},
   "source": [
    "Question 5 "
   ]
  },
  {
   "cell_type": "code",
   "execution_count": 22,
   "id": "3233f11f-d964-4a55-a366-eb8353e0a070",
   "metadata": {},
   "outputs": [
    {
     "name": "stdout",
     "output_type": "stream",
     "text": [
      "My very excited mother just served us nine pies.\n",
      "\n",
      "Please excuse my dear Aunt Sally.\n",
      "\n",
      "Roy G Biv.\n",
      "\n",
      "Will a jolly man make a joly visitor?\n"
     ]
    }
   ],
   "source": [
    "# I opened the \"famousSayings.txt\" file ad used 'a+\" mode to append a string. The function writelines is used in \n",
    "# this process.\n",
    "# Then, I used the \"r\" mode to print all the text inside the file. \n",
    "\n",
    "with open(\"DataLab/famousSayings.txt\", \"a+\") as writer:\n",
    "    writer.writelines(\"Will a jolly man make a joly visitor?\")\n",
    "\n",
    "with open(\"DataLab/famousSayings.txt\", \"r\") as reader:\n",
    "    for x in reader:\n",
    "        print(x)\n"
   ]
  },
  {
   "cell_type": "markdown",
   "id": "73452159-8b33-43a8-bf57-e078f6bcd51f",
   "metadata": {},
   "source": [
    "Question 6"
   ]
  },
  {
   "cell_type": "code",
   "execution_count": 16,
   "id": "305eff30-aa96-49ec-b92b-496d55abb0f5",
   "metadata": {},
   "outputs": [
    {
     "name": "stdout",
     "output_type": "stream",
     "text": [
      "Total is $1630500\n",
      "Total is $1633.7675350701402\n"
     ]
    }
   ],
   "source": [
    "# I opened the \"SalesJan2009.csv\" file, and used DictReader to append the values in the \"Price\" field to the\n",
    "# \"amtCollected\" list.\n",
    "# I calculated the total and average Prices based on the value in the \"amtColleccted\" list, and printed them.\n",
    "\n",
    "import csv\n",
    "\n",
    "with open(\"DataLab/SalesJan2009.csv\", \"r\") as csv_file:\n",
    "    csv_dict = csv.DictReader(csv_file)\n",
    "    amtCollected = []\n",
    "    for row in csv_dict:\n",
    "        for k, v in row.items():\n",
    "            if k == \"Price\":\n",
    "                amtCollected.append(int(v))\n",
    "    total = sum(amtCollected)\n",
    "    avg = sum(amtCollected) / len(amtCollected)\n",
    "\n",
    "print(f\"Total is ${total}\")\n",
    "print(f\"Total is ${avg}\")"
   ]
  },
  {
   "cell_type": "markdown",
   "id": "79d7395e-b397-4799-b163-859c16a5b8eb",
   "metadata": {},
   "source": [
    "Question 7"
   ]
  },
  {
   "cell_type": "code",
   "execution_count": 37,
   "id": "16ad602d-29c7-4ded-a33b-e44c3f26a379",
   "metadata": {},
   "outputs": [
    {
     "name": "stdout",
     "output_type": "stream",
     "text": [
      "Name,Weight\n",
      "\n",
      "Spot,53\n",
      "\n",
      "Sadie,22\n",
      "\n",
      "Sammie,24\n",
      "\n",
      "Jasper,45\n",
      "\n"
     ]
    }
   ],
   "source": [
    "# Four datas are inserted into the \"DogWeights.csv\" file using dictionary. The data include header and rows.\n",
    "# The \"w+\" mode is used in this process.\n",
    "# The fieldnames of these datas are \"Names\" and \"Weight\".\n",
    "# Then, using for loop, I printrd the result in the csv file using \"r\" mode.\n",
    "\n",
    "import csv\n",
    "\n",
    "with open(\"DataLab/DogWeights.csv\", \"w+\", newline='') as csv_file:\n",
    "    fieldNames = [\"Name\", \"Weight\"]\n",
    "    writer = csv.DictWriter(csv_file, fieldnames = fieldNames)\n",
    "    \n",
    "    writer.writeheader()\n",
    "    writer.writerow({\"Name\": \"Spot\", \"Weight\": 53})\n",
    "    writer.writerow({\"Name\": \"Sadie\", \"Weight\": 22})\n",
    "    writer.writerow({\"Name\": \"Sammie\", \"Weight\": 24})\n",
    "    writer.writerow({\"Name\": \"Jasper\", \"Weight\": 45})\n",
    "    \n",
    "with open(\"DataLab/DogWeights.csv\", \"r\") as csv_file:\n",
    "    csv_reader = csv.reader(csv_file, delimiter=',')\n",
    "    for x in csv_file:\n",
    "        print(x)\n",
    "    "
   ]
  }
 ],
 "metadata": {
  "kernelspec": {
   "display_name": "Python 3 (ipykernel)",
   "language": "python",
   "name": "python3"
  },
  "language_info": {
   "codemirror_mode": {
    "name": "ipython",
    "version": 3
   },
   "file_extension": ".py",
   "mimetype": "text/x-python",
   "name": "python",
   "nbconvert_exporter": "python",
   "pygments_lexer": "ipython3",
   "version": "3.9.7"
  }
 },
 "nbformat": 4,
 "nbformat_minor": 5
}
