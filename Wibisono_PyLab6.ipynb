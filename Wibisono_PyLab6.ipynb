{
 "cells": [
  {
   "cell_type": "markdown",
   "id": "f6a226e1-d106-42e0-a295-6ee8e4cd358a",
   "metadata": {},
   "source": [
    "##### Python Lab #6\n",
    "##### Tiffany Wibisono"
   ]
  },
  {
   "cell_type": "code",
   "execution_count": 90,
   "id": "3c11e9ee-2951-43c2-adb6-868bb78e1cd4",
   "metadata": {},
   "outputs": [],
   "source": [
    "import numpy as np\n",
    "import pandas as pd\n",
    "import seaborn as sns\n",
    "import matplotlib.pyplot as plt\n",
    "\n",
    "pd.set_option('display.float_format', lambda x: '%6f' % x)\n",
    "\n",
    "import warnings\n",
    "warnings.filterwarnings('ignore')"
   ]
  },
  {
   "cell_type": "markdown",
   "id": "7081430a-a42b-4b05-9862-cc27b6300f49",
   "metadata": {},
   "source": [
    "Question 1 "
   ]
  },
  {
   "cell_type": "code",
   "execution_count": 10,
   "id": "2be8de1f-f4f8-4898-9dcf-bd408ba2da92",
   "metadata": {},
   "outputs": [
    {
     "name": "stdout",
     "output_type": "stream",
     "text": [
      "[list(['Mercury', 'Venus', 'Mars']) list(['Jupiter', 'Saturn', 'Uranus'])\n",
      " list(['Pluto'])]\n"
     ]
    }
   ],
   "source": [
    "# The result prints an array with three nested arrays inside it. \n",
    "\n",
    "planets = np.array([['Mercury', 'Venus', 'Mars'], \n",
    "                    ['Jupiter', 'Saturn', 'Uranus'],\n",
    "                    ['Pluto']])\n",
    "\n",
    "print(planets)"
   ]
  },
  {
   "cell_type": "markdown",
   "id": "7f8cafd7-29aa-4c45-9786-d40b93a3f6cd",
   "metadata": {},
   "source": [
    "Question 2 "
   ]
  },
  {
   "cell_type": "code",
   "execution_count": 8,
   "id": "ca28b0fe-4e73-4cc3-b971-ddffb20b9f23",
   "metadata": {
    "tags": []
   },
   "outputs": [
    {
     "name": "stdout",
     "output_type": "stream",
     "text": [
      "Venus is the second planet from the sun.\n",
      "Pluto is not a planet.\n"
     ]
    }
   ],
   "source": [
    "# The result prints two strings based on a specific information from the array 'planet'. \n",
    "# Index is used to print specific information from the the array. \n",
    "\n",
    "planets = np.array([['Mercury', 'Venus', 'Mars'], \n",
    "                    ['Jupiter', 'Saturn', 'Uranus'],\n",
    "                    ['Pluto']])\n",
    "\n",
    "print(f\"{planets[0][1]} is the second planet from the sun.\")  \n",
    "print(f\"{planets[2][0]} is not a planet.\")"
   ]
  },
  {
   "cell_type": "markdown",
   "id": "15a8c8ff-8444-473e-9128-4915953dbe02",
   "metadata": {},
   "source": [
    "Question 3 "
   ]
  },
  {
   "cell_type": "code",
   "execution_count": 59,
   "id": "6d71fd03-e72c-45c3-954e-c54da403c12c",
   "metadata": {},
   "outputs": [
    {
     "name": "stdout",
     "output_type": "stream",
     "text": [
      "[ 400 1800 4000 7000]\n",
      "[3.16227766 5.47722558 7.07106781 8.36660027]\n"
     ]
    }
   ],
   "source": [
    "# A variable x is created to hold an array range between 10 and 100 with an interval of 10\n",
    "# Variable sub1 is created to print the fourth to the nirth number in variable x with an interval of 2\n",
    "# Variable sub2 is created to print the first to the sixth number in variable x with an interval of 2\n",
    "# The second result prints an array of the product sub1 and sub2\n",
    "# The third result prints an array of the square root of sub2\n",
    "\n",
    "x = np.arange(10, 101, 10)\n",
    "\n",
    "sub1 = x[3:10:2]\n",
    "sub2 = x[0:7:2]\n",
    "\n",
    "product = sub1*sub2\n",
    "print(product)\n",
    "\n",
    "print(np.sqrt(sub2))\n"
   ]
  },
  {
   "cell_type": "markdown",
   "id": "fe0a53e6-1b76-4053-8c27-78dc14ed02ef",
   "metadata": {},
   "source": [
    "Question 4 "
   ]
  },
  {
   "cell_type": "code",
   "execution_count": 12,
   "id": "fe42b3a4-e34b-49fb-bfc8-5f3010e7d34b",
   "metadata": {},
   "outputs": [
    {
     "name": "stdout",
     "output_type": "stream",
     "text": [
      "Algebra I            30\n",
      "Intro to Business    31\n",
      "Creative Writing     29\n",
      "dtype: int64\n",
      "\n",
      "\n",
      "Algebra I           30\n",
      "Creative Writing    29\n",
      "dtype: int64\n"
     ]
    }
   ],
   "source": [
    "# A list of classes and students are created\n",
    "# A pandas Series is created out of classes and students (classes as the index), and it is saved as the \n",
    "# variable 'att'. Then, elements in the pandas Series is printed.\n",
    "# A new element is added to the series (key = programming, value = 31)\n",
    "# The series is printed again, but only printed elements that have value below 31. \n",
    "\n",
    "classes = [\"Algebra I\", \"Intro to Business\", \"Creative Writing\"]\n",
    "students = [30, 31, 29]\n",
    "\n",
    "att = pd.Series(students, classes)\n",
    "print(att)\n",
    "att[\"Programmming\"] = 31\n",
    "\n",
    "print(\"\\n\")\n",
    "\n",
    "print(att[att < 31])\n"
   ]
  },
  {
   "cell_type": "markdown",
   "id": "fd3fcba6-e40e-4074-a0d3-764e8ca95f46",
   "metadata": {},
   "source": [
    "Question 5 "
   ]
  },
  {
   "cell_type": "code",
   "execution_count": 5,
   "id": "76a567ed-8dd1-4ce4-85e0-77fc129d456f",
   "metadata": {},
   "outputs": [
    {
     "name": "stdout",
     "output_type": "stream",
     "text": [
      "        Test1  Test2  Test3\n",
      "Sean       92     85     83\n",
      "Claude     72     83     99\n",
      "Laura      98     89     61\n",
      "\n",
      "\n",
      "        Test1  Test2  Test3  Test 4\n",
      "Sean       92     85     83      69\n",
      "Claude     72     81     99      71\n",
      "Laura      98     89     61      72\n",
      "James      72     83     99      83\n"
     ]
    }
   ],
   "source": [
    "# A dictionary called 'data' is created to print panda Dataframe.\n",
    "# The first result prints a Dataframe based on the given data in the dictionary for the column and student names \n",
    "# for the index.\n",
    "# The second result prints the same Dataframe as the first one, but this time, Claude's Test 2 grade is altered,\n",
    "# and an additional row and column is added.\n",
    "\n",
    "data = {\"Test1\": [92, 72, 98],\n",
    "        \"Test2\": [85, 83, 89],\n",
    "        \"Test3\": [83, 99, 61]}\n",
    "\n",
    "studentGrade = pd.DataFrame(data, index=['Sean', 'Claude', 'Laura'])\n",
    "print(studentGrade)\n",
    "\n",
    "print('\\n')\n",
    "\n",
    "studentGrade.loc['Claude']['Test2'] = 81\n",
    "studentGrade.loc['James'] = [72, 83, 99]\n",
    "studentGrade['Test 4'] = [69, 71, 72, 83]\n",
    "print(studentGrade)                         "
   ]
  },
  {
   "cell_type": "markdown",
   "id": "a05c8403-a0ca-41ca-b79a-3afceb862f9e",
   "metadata": {},
   "source": [
    "Question 6   "
   ]
  },
  {
   "cell_type": "code",
   "execution_count": 91,
   "id": "8426d71a-feae-4adc-8cfc-429f002a44ae",
   "metadata": {},
   "outputs": [
    {
     "name": "stdout",
     "output_type": "stream",
     "text": [
      "            Samsung Galaxy S10    iPhone X  Google Pixel 4\n",
      "01/01/2020          769.340000  983.110000     1021.180000\n",
      "01/02/2020          834.230000  881.210000     1321.120000\n",
      "01/03/2020          900.120000 1210.320000      832.140000\n",
      "01/04/2020         1021.120000 1100.340000      992.150000\n",
      "\n",
      "\n",
      "                  Mean      Median     St Dev\n",
      "01/01/2020  924.543333  983.110000 135.751196\n",
      "01/02/2020 1012.186667  881.210000 268.573330\n",
      "01/03/2020  980.860000  900.120000 201.604164\n",
      "01/04/2020 1037.870000 1021.120000  56.006168\n"
     ]
    }
   ],
   "source": [
    "# A dictionary called 'salesDict' and a list called 'dates' are created to print panda Dataframe.\n",
    "# The first result prints a Dataframe based on the data in the dictionary for the column and data in the list\n",
    "# for the index.\n",
    "# The second result prints a Dataframe of the three new columns of the mean, median, and standard deviation values\n",
    "# for each date. The three columns shown in the first result are deleted.\n",
    "\n",
    "\n",
    "salesDict = {'Samsung Galaxy S10': [769.34, 834.23, 900.12, 1021.12],\n",
    "             'iPhone X': [983.11, 881.21, 1210.32, 1100.34],\n",
    "             'Google Pixel 4': [1021.18, 1321.12, 832.14, 992.15]}\n",
    "\n",
    "dates = ['01/01/2020', '01/02/2020', '01/03/2020', '01/04/2020']\n",
    "\n",
    "sales = pd.DataFrame(salesDict, index=[dates])\n",
    "print(sales)\n",
    "\n",
    "avg = sales.mean(axis=1)\n",
    "med = sales.median(axis=1)\n",
    "std = sales.std(axis=1)\n",
    "\n",
    "sales['Mean'] = avg\n",
    "sales['Median'] = med\n",
    "sales['St Dev'] = std\n",
    "\n",
    "sales = sales.drop('Samsung Galaxy S10', axis=1)\n",
    "sales = sales.drop('iPhone X', axis=1)\n",
    "sales = sales.drop('Google Pixel 4', axis=1)\n",
    "\n",
    "print('\\n')\n",
    "print(sales)"
   ]
  },
  {
   "cell_type": "markdown",
   "id": "ca8a7155-043e-4705-83d1-48be34850330",
   "metadata": {},
   "source": [
    "Question 7 (Method 1)"
   ]
  },
  {
   "cell_type": "code",
   "execution_count": 16,
   "id": "eac144f2-2ac4-42a7-b5d0-c9079895b41d",
   "metadata": {},
   "outputs": [
    {
     "data": {
      "image/png": "[encoded data removed]",
      "text/plain": [
       "<Figure size 936x360 with 1 Axes>"
      ]
     },
     "metadata": {},
     "output_type": "display_data"
    }
   ],
   "source": [
    "# The result shows a bar graph created using Seaborn library.\n",
    "# The bar graph tells the relationship between the the average spending (price) and payment type. \n",
    "\n",
    "salesDF = pd.read_csv('DataLab/SalesJan2009.csv', sep=',')\n",
    "\n",
    "sns.set(style='whitegrid')\n",
    "plt.figure(figsize=(13,5))\n",
    "plt.title('Average Spending per Payment Type')\n",
    "ax = sns.barplot(salesDF.Payment_Type, salesDF.Price)"
   ]
  },
  {
   "cell_type": "markdown",
   "id": "8ed0682e-fba8-458b-9763-d1aa91a091fa",
   "metadata": {},
   "source": [
    "Question 7 (Method 2)"
   ]
  },
  {
   "cell_type": "code",
   "execution_count": 18,
   "id": "c98c97d5-e039-4384-9e2b-67cb27c9387b",
   "metadata": {},
   "outputs": [
    {
     "name": "stdout",
     "output_type": "stream",
     "text": [
      "Payment_Type\n",
      "Amex         1717.273\n",
      "Diners       1503.371\n",
      "Mastercard   1655.054\n",
      "Visa         1627.107\n",
      "Name: Price, dtype: float64\n",
      "\n",
      "\n"
     ]
    },
    {
     "data": {
      "image/png": "[encoded data removed]",
      "text/plain": [
       "<Figure size 936x360 with 1 Axes>"
      ]
     },
     "metadata": {},
     "output_type": "display_data"
    }
   ],
   "source": [
    "# The result shows a bar graph created using Matplotlib library.\n",
    "# The bar graph tells the relationship between the the average spending (price) and payment type.\n",
    "\n",
    "\n",
    "salesDF = pd.read_csv('DataLab/SalesJan2009.csv', sep=',')\n",
    "\n",
    "paymentType = salesDF.groupby(['Payment_Type']).mean()\n",
    "priceRate = paymentType['Price']\n",
    "print(priceRate)\n",
    "\n",
    "print('\\n')\n",
    "\n",
    "plt.figure(figsize=(13,5))\n",
    "plt.bar(priceRate.index, priceRate.values, color='orange')\n",
    "plt.title('Average Spending per Payment Type')\n",
    "plt.xlabel('Payment_Type')\n",
    "plt.ylabel('Price')\n",
    "plt.show()\n",
    "\n",
    "\n"
   ]
  },
  {
   "cell_type": "markdown",
   "id": "00a3800e-1ab2-462f-b64e-49a772fa1a96",
   "metadata": {},
   "source": [
    "Question 8"
   ]
  },
  {
   "cell_type": "code",
   "execution_count": 38,
   "id": "97f81105-cdcc-450b-ab2d-8cde9fac8a50",
   "metadata": {},
   "outputs": [
    {
     "data": {
      "image/png": "[encoded data removed]",
      "text/plain": [
       "<Figure size 1080x360 with 1 Axes>"
      ]
     },
     "metadata": {
      "needs_background": "light"
     },
     "output_type": "display_data"
    }
   ],
   "source": [
    "# The result is based on the SalesJan2009 csv file.\n",
    "# The result shows a histogram of the Price with 5 bins. The histogram is ranged from 0 to 8000.\n",
    "\n",
    "salesDF = pd.read_csv('DataLab/SalesJan2009.csv', sep=',')\n",
    "\n",
    "plt.figure(figsize=(15,5))\n",
    "plt.title('Sales Price Histogram')\n",
    "plt.xlabel('Ranges')\n",
    "plt.ylabel('Price')\n",
    "plt.hist(salesDF['Price'], 5, range=(0, 8000))\n",
    "plt.show()"
   ]
  },
  {
   "cell_type": "markdown",
   "id": "67dcd3c0-9b8a-455f-89e5-f74bcd2b8c89",
   "metadata": {},
   "source": [
    "Question 9"
   ]
  },
  {
   "cell_type": "code",
   "execution_count": 9,
   "id": "71317aab-a4e8-477a-8fb4-ad740100bf9f",
   "metadata": {},
   "outputs": [
    {
     "data": {
      "image/png": "[encoded data removed]",
      "text/plain": [
       "<Figure size 720x360 with 1 Axes>"
      ]
     },
     "metadata": {},
     "output_type": "display_data"
    }
   ],
   "source": [
    "# The result is based on the Loan Data csv file. \n",
    "# The result shows a boxplot of Applicant Income from gaduates and non graduates.\n",
    "\n",
    "loanDF = pd.read_csv('DataLab/LoanData.csv', sep=',')\n",
    "\n",
    "plt.figure(figsize=(10, 5))\n",
    "ax = sns.boxplot(loanDF.Education, loanDF.ApplicantIncome[0:100])"
   ]
  }
 ],
 "metadata": {
  "kernelspec": {
   "display_name": "Python 3 (ipykernel)",
   "language": "python",
   "name": "python3"
  },
  "language_info": {
   "codemirror_mode": {
    "name": "ipython",
    "version": 3
   },
   "file_extension": ".py",
   "mimetype": "text/x-python",
   "name": "python",
   "nbconvert_exporter": "python",
   "pygments_lexer": "ipython3",
   "version": "3.9.7"
  }
 },
 "nbformat": 4,
 "nbformat_minor": 5
}
